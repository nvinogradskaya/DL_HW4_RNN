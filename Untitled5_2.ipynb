{
  "cells": [
    {
      "cell_type": "markdown",
      "metadata": {
        "id": "view-in-github",
        "colab_type": "text"
      },
      "source": [
        "<a href=\"https://colab.research.google.com/github/nvinogradskaya/DL_HW4_RNN/blob/main/Untitled5_2.ipynb\" target=\"_parent\"><img src=\"https://colab.research.google.com/assets/colab-badge.svg\" alt=\"Open In Colab\"/></a>"
      ]
    },
    {
      "cell_type": "code",
      "execution_count": 6,
      "metadata": {
        "id": "sIoqavxk1lyL"
      },
      "outputs": [],
      "source": [
        "import os\n",
        "import pickle\n",
        "from joblib import Parallel, delayed\n",
        "import pandas as pd\n",
        "import numpy as np\n",
        "import tensorflow as tf\n",
        "from sklearn.preprocessing import MinMaxScaler\n",
        "from tensorflow.keras.models import Model\n",
        "from tensorflow.keras.layers import LSTM, Dense, Dropout, Input, Embedding, Concatenate\n",
        "from tensorflow.keras.optimizers import Adam\n",
        "from google.colab import drive\n",
        "from tensorflow.keras.layers import Input, LSTM, Dense, Embedding, Concatenate, Dropout, Reshape\n",
        "from tensorflow.keras.models import Model\n",
        "from tensorflow.keras.optimizers import Adam\n",
        "from sklearn.preprocessing import MinMaxScaler\n",
        "from tensorflow.keras.losses import Loss\n",
        "from tensorflow.keras.utils import to_categorical"
      ]
    },
    {
      "cell_type": "code",
      "execution_count": 7,
      "metadata": {
        "colab": {
          "base_uri": "https://localhost:8080/"
        },
        "id": "Qiv8ZelL1rPy",
        "outputId": "9a8f51f2-b675-45c6-9f2b-2641b94d9985"
      },
      "outputs": [
        {
          "output_type": "stream",
          "name": "stdout",
          "text": [
            "Drive already mounted at /content/drive; to attempt to forcibly remount, call drive.mount(\"/content/drive\", force_remount=True).\n"
          ]
        }
      ],
      "source": [
        "drive.mount('/content/drive')\n",
        "\n",
        "DATA_PATH = \"/content/drive/My Drive/Colab Notebooks/Data/\"\n",
        "SAVE_PATH = \"/content/drive/My Drive/Colab Notebooks/contrastive_results/\"\n",
        "os.makedirs(SAVE_PATH, exist_ok=True)"
      ]
    },
    {
      "cell_type": "code",
      "execution_count": 8,
      "metadata": {
        "id": "rEJDSSxW2LQe"
      },
      "outputs": [],
      "source": [
        "SEQ_LENGTH = 10\n",
        "EMBEDDING_DIM = 16\n",
        "LSTM_UNITS = 64\n",
        "BATCH_SIZE = 64\n",
        "EPOCHS = 5"
      ]
    },
    {
      "cell_type": "code",
      "execution_count": 9,
      "metadata": {
        "id": "JNma5nne2QwW"
      },
      "outputs": [],
      "source": [
        "class ContrastiveLoss(Loss):\n",
        "    def __init__(self, margin=1.0):\n",
        "        super().__init__()\n",
        "        self.margin = margin\n",
        "\n",
        "    def call(self, y_true, y_pred):\n",
        "        anchor, positive = y_pred[:, 0], y_pred[:, 1]\n",
        "        distances = tf.reduce_sum(tf.square(anchor - positive), axis=-1)\n",
        "        loss = y_true * distances + (1 - y_true) * tf.maximum(self.margin - distances, 0)\n",
        "        return tf.reduce_mean(loss)"
      ]
    },
    {
      "cell_type": "code",
      "execution_count": 10,
      "metadata": {
        "id": "fNk4kW4S2TjH"
      },
      "outputs": [],
      "source": [
        "def load_and_preprocess_data(data_path, max_users=10):\n",
        "    data = []\n",
        "    user_dirs = sorted(os.listdir(data_path))[:max_users]\n",
        "    for user in user_dirs:\n",
        "        traj_dir = os.path.join(data_path, user, 'Trajectory')\n",
        "        traj_files = [f for f in os.listdir(traj_dir) if f.endswith('.plt')]\n",
        "        for traj_file in traj_files:\n",
        "            df = pd.read_csv(\n",
        "                os.path.join(traj_dir, traj_file),\n",
        "                skiprows=6,\n",
        "                header=None,\n",
        "                usecols=[0, 1, 3, 5, 6],\n",
        "                names=['lat', 'lon', 'alt', 'date', 'time']\n",
        "            )\n",
        "            df['user'] = user\n",
        "            data.append(df)\n",
        "    df = pd.concat(data, ignore_index=True)\n",
        "    df['datetime'] = pd.to_datetime(df['date'] + ' ' + df['time'])\n",
        "    df.sort_values(by=['user', 'datetime'], inplace=True)\n",
        "    df = df[(df['lat'] != 0) & (df['lon'] != 0)].ffill()\n",
        "    scaler = MinMaxScaler()\n",
        "    df[['lat', 'lon', 'alt']] = scaler.fit_transform(df[['lat', 'lon', 'alt']])\n",
        "    df['hour_sin'] = np.sin(2 * np.pi * df['datetime'].dt.hour / 24)\n",
        "    df['hour_cos'] = np.cos(2 * np.pi * df['datetime'].dt.hour / 24)\n",
        "    df['day_sin'] = np.sin(2 * np.pi * df['datetime'].dt.dayofweek / 7)\n",
        "    df['day_cos'] = np.cos(2 * np.pi * df['datetime'].dt.dayofweek / 7)\n",
        "    user_ids = {user: idx for idx, user in enumerate(df['user'].unique())}\n",
        "    df['user_id'] = df['user'].map(user_ids)\n",
        "    return df, user_ids, scaler"
      ]
    },
    {
      "cell_type": "code",
      "execution_count": 11,
      "metadata": {
        "id": "rGMpDYev2XXU"
      },
      "outputs": [],
      "source": [
        "def create_sequences(df, user_ids, seq_length):\n",
        "    features = ['lat', 'lon', 'alt', 'hour_sin', 'hour_cos', 'day_sin', 'day_cos']\n",
        "    targets = ['lat', 'lon']\n",
        "    X, y, users = [], [], []\n",
        "    for user, group in df.groupby('user'):\n",
        "        user_data = group[features].values\n",
        "        user_targets = group[targets].values\n",
        "        user_id = user_ids[user]\n",
        "        for i in range(len(user_data) - seq_length):\n",
        "            X.append(user_data[i:i+seq_length])\n",
        "            y.append(user_targets[i+seq_length])\n",
        "            users.append(user_id)\n",
        "    return np.array(X), np.array(y), np.array(users)"
      ]
    },
    {
      "cell_type": "code",
      "execution_count": 12,
      "metadata": {
        "id": "Qr_D57TO2b2j"
      },
      "outputs": [],
      "source": [
        "def create_pairs(users, X):\n",
        "    anchors, positives, labels = [], [], []\n",
        "\n",
        "    for i in range(len(users)):\n",
        "        anchor = X[i]\n",
        "        positive = X[i]  # Позитивная пара - из того же пользователя\n",
        "        label = 1  # Позитивная пара\n",
        "\n",
        "        # Негативная пара - из другого пользователя\n",
        "        neg_idx = np.random.choice(np.where(users != users[i])[0])\n",
        "        negative = X[neg_idx]\n",
        "        labels.append([label, 0])  # Негативная пара\n",
        "\n",
        "        anchors.append(anchor)\n",
        "        positives.append(positive)\n",
        "\n",
        "    return np.array(anchors), np.array(positives), np.array(labels)\n",
        "\n",
        "# Контрастивная модель пользователей\n",
        "class ContrastiveModel(tf.keras.Model):\n",
        "    def __init__(self, num_users, embedding_dim):\n",
        "        super().__init__()\n",
        "        self.embedding = Embedding(num_users, embedding_dim)\n",
        "        self.dense = Dense(embedding_dim, activation='tanh')\n",
        "\n",
        "    def call(self, inputs):\n",
        "        user_id = inputs\n",
        "        user_emb = self.embedding(user_id)\n",
        "        return self.dense(user_emb)"
      ]
    },
    {
      "cell_type": "code",
      "execution_count": 13,
      "metadata": {
        "id": "WwLTgfSo2e3z"
      },
      "outputs": [],
      "source": [
        "def build_lstm_model(seq_length, embedding_dim, num_features, num_users):\n",
        "    seq_input = Input(shape=(seq_length, num_features))\n",
        "    user_input = Input(shape=(1,), dtype=tf.int32)\n",
        "    user_emb_layer = Embedding(input_dim=num_users, output_dim=embedding_dim)(user_input)\n",
        "    user_emb = Reshape((embedding_dim,))(user_emb_layer)\n",
        "    lstm_out = LSTM(LSTM_UNITS, return_sequences=False)(seq_input)\n",
        "    combined = Concatenate()([lstm_out, user_emb])\n",
        "    dense_out = Dense(64, activation='relu')(combined)\n",
        "    dense_out = Dropout(0.2)(dense_out)\n",
        "    dense_out = Dense(32, activation='relu')(dense_out)\n",
        "    final_output = Dense(2, activation='linear')(dense_out)\n",
        "    model = Model(inputs=[seq_input, user_input], outputs=final_output)\n",
        "    model.compile(optimizer=Adam(0.001), loss='mse', metrics=['mae'])\n",
        "    return model"
      ]
    },
    {
      "cell_type": "code",
      "execution_count": 14,
      "metadata": {
        "id": "mHVLkuJk2iV1"
      },
      "outputs": [],
      "source": [
        "df, user_ids, scaler = load_and_preprocess_data(DATA_PATH)\n",
        "X, y, users = create_sequences(df, user_ids, SEQ_LENGTH)"
      ]
    },
    {
      "cell_type": "code",
      "execution_count": 15,
      "metadata": {
        "colab": {
          "base_uri": "https://localhost:8080/"
        },
        "id": "HwKXODwE9j01",
        "outputId": "ffeab9e7-0137-4140-8a5a-ca04c6b3a974"
      },
      "outputs": [
        {
          "output_type": "stream",
          "name": "stdout",
          "text": [
            "Epoch 1/3\n",
            "\u001b[1m28842/28842\u001b[0m \u001b[32m━━━━━━━━━━━━━━━━━━━━\u001b[0m\u001b[37m\u001b[0m \u001b[1m56s\u001b[0m 2ms/step - loss: 0.0010\n",
            "Epoch 2/3\n",
            "\u001b[1m28842/28842\u001b[0m \u001b[32m━━━━━━━━━━━━━━━━━━━━\u001b[0m\u001b[37m\u001b[0m \u001b[1m83s\u001b[0m 2ms/step - loss: 0.0000e+00\n",
            "Epoch 3/3\n",
            "\u001b[1m28842/28842\u001b[0m \u001b[32m━━━━━━━━━━━━━━━━━━━━\u001b[0m\u001b[37m\u001b[0m \u001b[1m55s\u001b[0m 2ms/step - loss: 0.0000e+00\n"
          ]
        },
        {
          "output_type": "execute_result",
          "data": {
            "text/plain": [
              "<keras.src.callbacks.history.History at 0x7a86bbd02dd0>"
            ]
          },
          "metadata": {},
          "execution_count": 15
        }
      ],
      "source": [
        "contrastive_model = ContrastiveModel(num_users=len(user_ids), embedding_dim=EMBEDDING_DIM)\n",
        "contrastive_model.compile(optimizer=Adam(0.001), loss=ContrastiveLoss())\n",
        "contrastive_model.fit(users, np.zeros(len(users)), epochs=3, batch_size=BATCH_SIZE)"
      ]
    },
    {
      "cell_type": "code",
      "execution_count": 16,
      "metadata": {
        "colab": {
          "base_uri": "https://localhost:8080/"
        },
        "id": "1FZVu1llAAW3",
        "outputId": "d020296c-760d-4389-db22-9efff0e967a2"
      },
      "outputs": [
        {
          "output_type": "stream",
          "name": "stdout",
          "text": [
            "\u001b[1m57683/57683\u001b[0m \u001b[32m━━━━━━━━━━━━━━━━━━━━\u001b[0m\u001b[37m\u001b[0m \u001b[1m71s\u001b[0m 1ms/step\n"
          ]
        }
      ],
      "source": [
        "user_embeddings = contrastive_model.predict(users)\n",
        "user_embeddings_expanded = np.repeat(user_embeddings[:, np.newaxis, :], SEQ_LENGTH, axis=1)\n",
        "X_combined = np.concatenate([X, user_embeddings_expanded], axis=-1)"
      ]
    },
    {
      "cell_type": "code",
      "execution_count": 17,
      "metadata": {
        "colab": {
          "base_uri": "https://localhost:8080/"
        },
        "id": "T3CaZEh3A1ey",
        "outputId": "c0be4729-e880-45a0-f752-9a248fc73f39"
      },
      "outputs": [
        {
          "output_type": "stream",
          "name": "stdout",
          "text": [
            "Файл сохранён /content/drive/My Drive/Colab Notebooks/X_combined2.npy\n"
          ]
        }
      ],
      "source": [
        "save_path = \"/content/drive/My Drive/Colab Notebooks/X_combined2.npy\"\n",
        "np.save(save_path, X_combined)\n",
        "print(f\"Файл сохранён {save_path}\")"
      ]
    },
    {
      "cell_type": "code",
      "source": [
        "lstm_model = build_lstm_model(seq_length=SEQ_LENGTH, embedding_dim=EMBEDDING_DIM, num_features=X_combined.shape[-1], num_users=len(user_ids))\n",
        "history_lstm = lstm_model.fit([X_combined, users], y, epochs=EPOCHS, batch_size=BATCH_SIZE, validation_split=0.2)"
      ],
      "metadata": {
        "colab": {
          "base_uri": "https://localhost:8080/"
        },
        "id": "ZGRuK3RScvOp",
        "outputId": "a4acdd5a-8d5e-4389-90af-708ff763da5f"
      },
      "execution_count": 18,
      "outputs": [
        {
          "output_type": "stream",
          "name": "stdout",
          "text": [
            "Epoch 1/5\n",
            "\u001b[1m23073/23073\u001b[0m \u001b[32m━━━━━━━━━━━━━━━━━━━━\u001b[0m\u001b[37m\u001b[0m \u001b[1m270s\u001b[0m 12ms/step - loss: 0.0026 - mae: 0.0170 - val_loss: 0.0018 - val_mae: 0.0170\n",
            "Epoch 2/5\n",
            "\u001b[1m23073/23073\u001b[0m \u001b[32m━━━━━━━━━━━━━━━━━━━━\u001b[0m\u001b[37m\u001b[0m \u001b[1m306s\u001b[0m 11ms/step - loss: 2.2573e-05 - mae: 0.0027 - val_loss: 0.0024 - val_mae: 0.0109\n",
            "Epoch 3/5\n",
            "\u001b[1m23073/23073\u001b[0m \u001b[32m━━━━━━━━━━━━━━━━━━━━\u001b[0m\u001b[37m\u001b[0m \u001b[1m255s\u001b[0m 11ms/step - loss: 1.6124e-05 - mae: 0.0022 - val_loss: 0.0025 - val_mae: 0.0111\n",
            "Epoch 4/5\n",
            "\u001b[1m23073/23073\u001b[0m \u001b[32m━━━━━━━━━━━━━━━━━━━━\u001b[0m\u001b[37m\u001b[0m \u001b[1m266s\u001b[0m 12ms/step - loss: 1.3206e-05 - mae: 0.0020 - val_loss: 0.0019 - val_mae: 0.0099\n",
            "Epoch 5/5\n",
            "\u001b[1m23073/23073\u001b[0m \u001b[32m━━━━━━━━━━━━━━━━━━━━\u001b[0m\u001b[37m\u001b[0m \u001b[1m312s\u001b[0m 11ms/step - loss: 1.1784e-05 - mae: 0.0018 - val_loss: 0.0014 - val_mae: 0.0099\n"
          ]
        }
      ]
    },
    {
      "cell_type": "code",
      "source": [
        "import matplotlib.pyplot as plt\n",
        "\n",
        "history = lstm_model.history.history\n",
        "\n",
        "plt.figure(figsize=(12, 4))\n",
        "plt.subplot(1, 2, 1)\n",
        "plt.plot(history['loss'], label='Train Loss')\n",
        "plt.plot(history['val_loss'], label='Validation Loss')\n",
        "plt.title('Loss')\n",
        "plt.legend()\n",
        "\n",
        "plt.subplot(1, 2, 2)\n",
        "plt.plot(history['mae'], label='Train MAE')\n",
        "plt.plot(history['val_mae'], label='Validation MAE')\n",
        "plt.title('MAE')\n",
        "plt.legend()\n",
        "plt.show()"
      ],
      "metadata": {
        "colab": {
          "base_uri": "https://localhost:8080/",
          "height": 391
        },
        "id": "7mqIiWECjtI6",
        "outputId": "c51c2c49-1d08-4037-b75a-347768cbeb44"
      },
      "execution_count": 19,
      "outputs": [
        {
          "output_type": "display_data",
          "data": {
            "text/plain": [
              "<Figure size 1200x400 with 2 Axes>"
            ],
            "image/png": "[encoded data removed]"
          },
          "metadata": {}
        }
      ]
    },
    {
      "cell_type": "code",
      "execution_count": null,
      "metadata": {
        "colab": {
          "base_uri": "https://localhost:8080/"
        },
        "id": "-JiaxGZ3BWcb",
        "outputId": "5b890701-cf91-43f0-84fb-bf9c438d0308"
      },
      "outputs": [
        {
          "output_type": "stream",
          "name": "stdout",
          "text": [
            "Epoch 1/5\n",
            "\u001b[1m23073/23073\u001b[0m \u001b[32m━━━━━━━━━━━━━━━━━━━━\u001b[0m\u001b[37m\u001b[0m \u001b[1m258s\u001b[0m 11ms/step - loss: 0.0024 - mae: 0.0150 - val_loss: 0.0016 - val_mae: 0.0083\n",
            "Epoch 2/5\n",
            "\u001b[1m23073/23073\u001b[0m \u001b[32m━━━━━━━━━━━━━━━━━━━━\u001b[0m\u001b[37m\u001b[0m \u001b[1m251s\u001b[0m 11ms/step - loss: 2.2241e-05 - mae: 0.0026 - val_loss: 0.0039 - val_mae: 0.0111\n",
            "Epoch 3/5\n",
            "\u001b[1m23073/23073\u001b[0m \u001b[32m━━━━━━━━━━━━━━━━━━━━\u001b[0m\u001b[37m\u001b[0m \u001b[1m277s\u001b[0m 12ms/step - loss: 1.5271e-05 - mae: 0.0021 - val_loss: 0.0038 - val_mae: 0.0112\n",
            "Epoch 4/5\n",
            "\u001b[1m23073/23073\u001b[0m \u001b[32m━━━━━━━━━━━━━━━━━━━━\u001b[0m\u001b[37m\u001b[0m \u001b[1m301s\u001b[0m 11ms/step - loss: 1.1562e-05 - mae: 0.0019 - val_loss: 0.0041 - val_mae: 0.0120\n",
            "Epoch 5/5\n",
            "\u001b[1m23073/23073\u001b[0m \u001b[32m━━━━━━━━━━━━━━━━━━━━\u001b[0m\u001b[37m\u001b[0m \u001b[1m267s\u001b[0m 12ms/step - loss: 9.6008e-06 - mae: 0.0017 - val_loss: 0.0039 - val_mae: 0.0116\n"
          ]
        }
      ],
      "source": [
        "lstm_model = build_lstm_model(\n",
        "    seq_length=SEQ_LENGTH,\n",
        "    embedding_dim=EMBEDDING_DIM,\n",
        "    num_features=X_combined.shape[-1],\n",
        "    num_users=len(user_ids)\n",
        ")\n",
        "\n",
        "history_lstm = lstm_model.fit(\n",
        "    [X_combined, users],\n",
        "    y,\n",
        "    epochs=EPOCHS,\n",
        "    batch_size=BATCH_SIZE,\n",
        "    validation_split=0.2\n",
        ")"
      ]
    },
    {
      "cell_type": "code",
      "source": [
        "import matplotlib.pyplot as plt\n",
        "\n",
        "history = lstm_model.history.history\n",
        "\n",
        "plt.figure(figsize=(12, 4))\n",
        "plt.subplot(1, 2, 1)\n",
        "plt.plot(history['loss'], label='Train Loss')\n",
        "plt.plot(history['val_loss'], label='Validation Loss')\n",
        "plt.title('Loss')\n",
        "plt.legend()\n",
        "\n",
        "plt.subplot(1, 2, 2)\n",
        "plt.plot(history['mae'], label='Train MAE')\n",
        "plt.plot(history['val_mae'], label='Validation MAE')\n",
        "plt.title('MAE')\n",
        "plt.legend()\n",
        "plt.show()"
      ],
      "metadata": {
        "colab": {
          "base_uri": "https://localhost:8080/",
          "height": 391
        },
        "id": "YRuVoB7vioy1",
        "outputId": "43753db6-6612-4a17-8ada-fa1435dc5c4f"
      },
      "execution_count": null,
      "outputs": [
        {
          "output_type": "display_data",
          "data": {
            "text/plain": [
              "<Figure size 1200x400 with 2 Axes>"
            ],
            "image/png": "[encoded data removed]"
          },
          "metadata": {}
        }
      ]
    },
    {
      "cell_type": "code",
      "source": [
        "import tensorflow as tf\n",
        "from tensorflow.keras.layers import Input, LSTM, Dense, Embedding, Concatenate, Dropout, Reshape\n",
        "from tensorflow.keras.models import Model\n",
        "from tensorflow.keras.optimizers import Adam\n",
        "import numpy as np\n",
        "\n",
        "EMBEDDING_DIM = 16\n",
        "LSTM_UNITS = 64\n",
        "SEQ_LENGTH = 10\n",
        "BATCH_SIZE = 64\n",
        "EPOCHS = 5"
      ],
      "metadata": {
        "id": "jxcwK9sHq_tm"
      },
      "execution_count": null,
      "outputs": []
    },
    {
      "cell_type": "code",
      "source": [
        "def build_lstm_model_simple_users(seq_length, embedding_dim, num_features, num_users):\n",
        "    seq_input = Input(shape=(seq_length, num_features))\n",
        "    user_input = Input(shape=(1,), dtype=tf.int32)\n",
        "\n",
        "    # эмбеддинги пользователей\n",
        "    user_emb_layer = Embedding(input_dim=num_users, output_dim=embedding_dim)(user_input)\n",
        "    user_emb = Reshape((embedding_dim,))(user_emb_layer)\n",
        "\n",
        "    # lstm для последовательностей\n",
        "    lstm_out = LSTM(LSTM_UNITS, return_sequences=False)(seq_input)\n",
        "    combined = Concatenate()([lstm_out, user_emb])\n",
        "\n",
        "    dense_out = Dense(64, activation='relu')(combined)\n",
        "    dense_out = Dropout(0.2)(dense_out)\n",
        "    dense_out = Dense(32, activation='relu')(dense_out)\n",
        "    final_output = Dense(2, activation='linear')(dense_out)\n",
        "\n",
        "    model = Model(inputs=[seq_input, user_input], outputs=final_output)\n",
        "    model.compile(optimizer=Adam(0.001), loss='mse', metrics=['mae'])\n",
        "    return model"
      ],
      "metadata": {
        "id": "ua5OdeD1rBjr"
      },
      "execution_count": null,
      "outputs": []
    },
    {
      "cell_type": "code",
      "source": [
        "X_combined2 = np.load(\"/content/drive/My Drive/Colab Notebooks/X_combined.npy\")\n",
        "num_features = X_combined2.shape[-1]\n",
        "num_users = len(user_ids)"
      ],
      "metadata": {
        "id": "__eMzBXPrPAg"
      },
      "execution_count": null,
      "outputs": []
    },
    {
      "cell_type": "code",
      "source": [
        "lstm_model_simple = build_lstm_model_simple_users(\n",
        "    seq_length=SEQ_LENGTH,\n",
        "    embedding_dim=EMBEDDING_DIM,\n",
        "    num_features=num_features,\n",
        "    num_users=num_users\n",
        ")\n",
        "history_simple = lstm_model_simple.fit(\n",
        "    [X_combined2, users],\n",
        "    y,\n",
        "    epochs=EPOCHS,\n",
        "    batch_size=BATCH_SIZE,\n",
        "    validation_split=0.2\n",
        ")"
      ],
      "metadata": {
        "id": "13wDDarmsH1y"
      },
      "execution_count": null,
      "outputs": []
    },
    {
      "cell_type": "code",
      "execution_count": null,
      "metadata": {
        "id": "x8ljimpnc91u"
      },
      "outputs": [],
      "source": [
        "import matplotlib.pyplot as plt\n",
        "def plot_history(hist1, hist2, label1=\"Model 1\", label2=\"Model 2\"):\n",
        "    plt.figure(figsize=(12, 5))\n",
        "    plt.subplot(1, 2, 1)\n",
        "    plt.plot(hist1.history['val_loss'], label=f'{label1} (val_loss)')\n",
        "    plt.plot(hist2.history['val_loss'], label=f'{label2} (val_loss)')\n",
        "    plt.xlabel('Epochs')\n",
        "    plt.ylabel('Validation MSE')\n",
        "    plt.legend()\n",
        "    plt.title('Validation MSE')\n",
        "\n",
        "    plt.subplot(1, 2, 2)\n",
        "    plt.plot(hist1.history['val_mae'], label=f'{label1} (val_mae)')\n",
        "    plt.plot(hist2.history['val_mae'], label=f'{label2} (val_mae)')\n",
        "    plt.xlabel('Epochs')\n",
        "    plt.ylabel('Validation MAE')\n",
        "    plt.legend()\n",
        "    plt.title('Validation MAE')\n",
        "\n",
        "    plt.show()\n",
        "\n",
        "plot_history(history_lstm, history_simple, \"Contrastive LSTM\", \"Simple LSTM\")"
      ]
    }
  ],
  "metadata": {
    "colab": {
      "provenance": [],
      "authorship_tag": "ABX9TyP97C6Dt5PmWCRnz3It6v/u",
      "include_colab_link": true
    },
    "kernelspec": {
      "display_name": "Python 3",
      "name": "python3"
    },
    "language_info": {
      "name": "python"
    }
  },
  "nbformat": 4,
  "nbformat_minor": 0
}