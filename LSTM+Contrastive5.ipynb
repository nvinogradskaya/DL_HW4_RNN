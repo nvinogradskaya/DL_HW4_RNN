{
  "nbformat": 4,
  "nbformat_minor": 0,
  "metadata": {
    "colab": {
      "provenance": [],
      "machine_shape": "hm",
      "gpuType": "T4",
      "authorship_tag": "ABX9TyOoM9C0r/2kK3vlFxXTe64T",
      "include_colab_link": true
    },
    "kernelspec": {
      "name": "python3",
      "display_name": "Python 3"
    },
    "language_info": {
      "name": "python"
    },
    "accelerator": "GPU"
  },
  "cells": [
    {
      "cell_type": "markdown",
      "metadata": {
        "id": "view-in-github",
        "colab_type": "text"
      },
      "source": [
        "<a href=\"https://colab.research.google.com/github/nvinogradskaya/DL_HW4_RNN/blob/main/LSTM%2BContrastive5.ipynb\" target=\"_parent\"><img src=\"https://colab.research.google.com/assets/colab-badge.svg\" alt=\"Open In Colab\"/></a>"
      ]
    },
    {
      "cell_type": "code",
      "execution_count": 52,
      "metadata": {
        "id": "c2M8C_JsKWBR"
      },
      "outputs": [],
      "source": [
        "import os\n",
        "import pickle\n",
        "import numpy as np\n",
        "import pandas as pd\n",
        "import tensorflow as tf\n",
        "from tensorflow.keras.models import Model\n",
        "from tensorflow.keras.layers import LSTM, Dense, Embedding, Concatenate, Input, Reshape\n",
        "from tensorflow.keras.optimizers import Adam\n",
        "from tensorflow.keras.callbacks import ModelCheckpoint, EarlyStopping\n",
        "from sklearn.preprocessing import MinMaxScaler\n",
        "from sklearn.model_selection import train_test_split\n",
        "import matplotlib.pyplot as plt\n",
        "import json"
      ]
    },
    {
      "cell_type": "code",
      "source": [
        "from google.colab import drive\n",
        "SEQ_LENGTH = 10\n",
        "EMBEDDING_DIM = 16\n",
        "LSTM_UNITS = 64\n",
        "BATCH_SIZE = 64\n",
        "EPOCHS = 10\n",
        "TEST_SIZE = 0.2\n",
        "drive.mount('/content/drive')\n",
        "DATA_PATH = \"/content/drive/My Drive/Colab Notebooks/Data/\"\n",
        "SAVE_PATH = \"/content/drive/My Drive/Colab Notebooks/contrastive_results3/\"\n",
        "SEQ_SAVE_PATH = os.path.join(SAVE_PATH, 'sequences/')\n",
        "os.makedirs(SAVE_PATH, exist_ok=True)\n",
        "os.makedirs(SEQ_SAVE_PATH, exist_ok=True)"
      ],
      "metadata": {
        "colab": {
          "base_uri": "https://localhost:8080/"
        },
        "id": "1Aei32AOGKCn",
        "outputId": "ecfed935-36ad-434a-cc15-ade984d86344"
      },
      "execution_count": 53,
      "outputs": [
        {
          "output_type": "stream",
          "name": "stdout",
          "text": [
            "Drive already mounted at /content/drive; to attempt to forcibly remount, call drive.mount(\"/content/drive\", force_remount=True).\n"
          ]
        }
      ]
    },
    {
      "cell_type": "code",
      "source": [
        "def load_and_preprocess_data(data_path, max_users=100, max_files_per_user=30):\n",
        "    data = []\n",
        "    user_dirs = sorted(os.listdir(data_path))[:max_users]\n",
        "\n",
        "    for user in user_dirs:\n",
        "        traj_dir = os.path.join(data_path, user, 'Trajectory')\n",
        "        traj_files = sorted([f for f in os.listdir(traj_dir) if f.endswith('.plt')])[:max_files_per_user]\n",
        "\n",
        "        for traj_file in traj_files:\n",
        "            df = pd.read_csv(\n",
        "                os.path.join(traj_dir, traj_file),\n",
        "                skiprows=6,\n",
        "                header=None,\n",
        "                usecols=[0, 1, 3, 5, 6],\n",
        "                names=['lat', 'lon', 'alt', 'date', 'time']\n",
        "            )\n",
        "            df['user'] = user\n",
        "            data.append(df)\n",
        "\n",
        "    df = pd.concat(data, ignore_index=True)\n",
        "    df['datetime'] = pd.to_datetime(df['date'] + ' ' + df['time'])\n",
        "    df.sort_values(by=['user', 'datetime'], inplace=True)\n",
        "    df = df[(df['lat'] != 0) & (df['lon'] != 0)].ffill()\n",
        "\n",
        "    scaler = MinMaxScaler()\n",
        "    df[['lat', 'lon', 'alt']] = scaler.fit_transform(df[['lat', 'lon', 'alt']])\n",
        "\n",
        "    df['hour_sin'] = np.sin(2 * np.pi * df['datetime'].dt.hour / 24)\n",
        "    df['hour_cos'] = np.cos(2 * np.pi * df['datetime'].dt.hour / 24)\n",
        "    df['day_sin'] = np.sin(2 * np.pi * df['datetime'].dt.dayofweek / 7)\n",
        "    df['day_cos'] = np.cos(2 * np.pi * df['datetime'].dt.dayofweek / 7)\n",
        "\n",
        "    user_ids = {user: idx for idx, user in enumerate(df['user'].unique())}\n",
        "    df['user_id'] = df['user'].map(user_ids)\n",
        "\n",
        "    return df, user_ids, scaler"
      ],
      "metadata": {
        "id": "7Cq_kIMrG4i_"
      },
      "execution_count": 54,
      "outputs": []
    },
    {
      "cell_type": "code",
      "source": [
        "df, user_ids, scaler = load_and_preprocess_data(DATA_PATH, max_users=100, max_files_per_user=30)"
      ],
      "metadata": {
        "id": "_Y3G-kOMG_pE"
      },
      "execution_count": 55,
      "outputs": []
    },
    {
      "cell_type": "code",
      "source": [
        "def create_sequences_and_save(df, user_ids, seq_length, test_size=0.2, save_path='./seq_data'):\n",
        "    os.makedirs(save_path, exist_ok=True)\n",
        "    features = ['lat', 'lon', 'alt', 'hour_sin', 'hour_cos', 'day_sin', 'day_cos']\n",
        "    targets = ['lat', 'lon']\n",
        "\n",
        "    for user, user_df in df.groupby('user'):\n",
        "        uid = user_ids[user]\n",
        "        user_df = user_df.reset_index(drop=True)\n",
        "        split_idx = int(len(user_df) * (1 - test_size))\n",
        "        if split_idx <= seq_length:\n",
        "            continue\n",
        "\n",
        "        def process_chunk(data, is_train=True):\n",
        "            window_size = seq_length + 1\n",
        "            data_values = data[features].values\n",
        "\n",
        "            if len(data_values) < window_size:\n",
        "                print(f\"недостаточно данных для пользователя {uid}. пропуск.\")\n",
        "                return [], []\n",
        "\n",
        "            # создание окон\n",
        "            X = np.lib.stride_tricks.sliding_window_view(data_values, (window_size, data_values.shape[1]))\n",
        "            X = X.squeeze(axis=1)\n",
        "            X = X[:, :-1]\n",
        "            y = data[targets].values[seq_length:]\n",
        "\n",
        "            chunk_size = 1000\n",
        "            for i in range(0, len(X), chunk_size):\n",
        "                save_chunk(X[i:i+chunk_size], y[i:i+chunk_size], is_train)\n",
        "\n",
        "            return [], []\n",
        "\n",
        "        def save_chunk(X, y, is_train):\n",
        "            suffix = 'train' if is_train else 'test'\n",
        "            chunk_id = uuid.uuid4().hex\n",
        "            np.savez_compressed(\n",
        "                os.path.join(save_path, f'user_{uid}_{suffix}_{chunk_id}.npz'),\n",
        "                X=X,\n",
        "                y=y\n",
        "            )\n",
        "\n",
        "        process_chunk(user_df.iloc[:split_idx], is_train=True)\n",
        "        process_chunk(user_df.iloc[split_idx-seq_length:], is_train=False)"
      ],
      "metadata": {
        "id": "7AQ_kfm61O80"
      },
      "execution_count": 56,
      "outputs": []
    },
    {
      "cell_type": "code",
      "source": [
        "import shutil\n",
        "shutil.rmtree(SEQ_SAVE_PATH)\n",
        "os.makedirs(SEQ_SAVE_PATH, exist_ok=True)"
      ],
      "metadata": {
        "id": "akeJ-Bzje7Sv"
      },
      "execution_count": 57,
      "outputs": []
    },
    {
      "cell_type": "code",
      "source": [
        "import uuid\n",
        "create_sequences_and_save(df, user_ids, SEQ_LENGTH, save_path=SEQ_SAVE_PATH)"
      ],
      "metadata": {
        "id": "tE535dYW1Pq_"
      },
      "execution_count": 58,
      "outputs": []
    },
    {
      "cell_type": "code",
      "source": [
        "def load_all_sequences_from_disk(save_path):\n",
        "    X_train, X_test, y_train, y_test, users_train, users_test = [], [], [], [], [], []\n",
        "\n",
        "    for fname in sorted(os.listdir(save_path)):\n",
        "        if not fname.endswith('.npz'):\n",
        "            continue\n",
        "\n",
        "        if 'train' in fname:\n",
        "            split_type = 'train'\n",
        "        elif 'test' in fname:\n",
        "            split_type = 'test'\n",
        "        else:\n",
        "            continue\n",
        "\n",
        "        uid = int(fname.split('_')[1])\n",
        "\n",
        "        data = np.load(os.path.join(save_path, fname))\n",
        "\n",
        "        X = data['X']\n",
        "        y = data['y']\n",
        "\n",
        "        if split_type == 'train':\n",
        "            X_train.append(X)\n",
        "            y_train.append(y)\n",
        "            users_train.append(np.full(len(X), uid))\n",
        "        else:\n",
        "            X_test.append(X)\n",
        "            y_test.append(y)\n",
        "            users_test.append(np.full(len(X), uid))\n",
        "\n",
        "    return (\n",
        "        np.concatenate(X_train), np.concatenate(X_test),\n",
        "        np.concatenate(y_train), np.concatenate(y_test),\n",
        "        np.concatenate(users_train), np.concatenate(users_test)\n",
        "    )"
      ],
      "metadata": {
        "id": "22S4yFMPpoYb"
      },
      "execution_count": 59,
      "outputs": []
    },
    {
      "cell_type": "code",
      "source": [
        "X_train, X_test, y_train, y_test, users_train, users_test = load_all_sequences_from_disk(SEQ_SAVE_PATH)\n",
        "print(\"X_train shape:\", X_train.shape)"
      ],
      "metadata": {
        "id": "dMqM1fpmpqQZ",
        "colab": {
          "base_uri": "https://localhost:8080/"
        },
        "outputId": "da2a8a73-6802-47aa-f0a9-12ff7584cb08"
      },
      "execution_count": 60,
      "outputs": [
        {
          "output_type": "stream",
          "name": "stdout",
          "text": [
            "X_train shape: (2868992, 10, 7)\n"
          ]
        }
      ]
    },
    {
      "cell_type": "code",
      "source": [
        "class ContrastiveModel(tf.keras.Model):\n",
        "    def __init__(self, num_users, embedding_dim):\n",
        "        super().__init__()\n",
        "        self.embedding = Embedding(num_users, embedding_dim)\n",
        "        self.dense = Dense(embedding_dim, activation='tanh')\n",
        "\n",
        "    def call(self, inputs):\n",
        "        user_id = inputs\n",
        "        user_emb = self.embedding(user_id)\n",
        "        return self.dense(user_emb)\n",
        "\n",
        "    def train_step(self, data):\n",
        "        users, _ = data\n",
        "        with tf.GradientTape() as tape:\n",
        "            embeddings = self(users)\n",
        "\n",
        "            anchor = embeddings[:-1]\n",
        "            positive = embeddings[1:]\n",
        "\n",
        "            distances = tf.reduce_sum(tf.square(anchor - positive), axis=-1)\n",
        "            loss = self.compiled_loss(tf.zeros_like(distances), distances)\n",
        "\n",
        "        gradients = tape.gradient(loss, self.trainable_variables)\n",
        "        self.optimizer.apply_gradients(zip(gradients, self.trainable_variables))\n",
        "        return {'loss': loss}"
      ],
      "metadata": {
        "id": "-tyAEHfmLQZ-"
      },
      "execution_count": 61,
      "outputs": []
    },
    {
      "cell_type": "code",
      "source": [
        "contrastive_model = ContrastiveModel(num_users=len(user_ids), embedding_dim=EMBEDDING_DIM)\n",
        "contrastive_model.compile(optimizer=Adam(0.001), loss=tf.keras.losses.MeanSquaredError())\n",
        "contrastive_model.fit(users_train, np.zeros(len(users_train)), epochs=5, batch_size=BATCH_SIZE)\n",
        "user_embeddings = contrastive_model.predict(np.unique(users_train))"
      ],
      "metadata": {
        "id": "_BH_OcNcLYzZ",
        "colab": {
          "base_uri": "https://localhost:8080/"
        },
        "outputId": "a18e54ca-1518-496f-d114-b6f086acfa9c"
      },
      "execution_count": 62,
      "outputs": [
        {
          "output_type": "stream",
          "name": "stdout",
          "text": [
            "Epoch 1/5\n"
          ]
        },
        {
          "output_type": "stream",
          "name": "stderr",
          "text": [
            "/usr/local/lib/python3.11/dist-packages/keras/src/backend/tensorflow/trainer.py:667: UserWarning: `model.compiled_loss()` is deprecated. Instead, use `model.compute_loss(x, y, y_pred, sample_weight, training)`.\n",
            "  warnings.warn(\n"
          ]
        },
        {
          "output_type": "stream",
          "name": "stdout",
          "text": [
            "\u001b[1m44828/44828\u001b[0m \u001b[32m━━━━━━━━━━━━━━━━━━━━\u001b[0m\u001b[37m\u001b[0m \u001b[1m73s\u001b[0m 2ms/step - loss: 2.3403e-07\n",
            "Epoch 2/5\n",
            "\u001b[1m44828/44828\u001b[0m \u001b[32m━━━━━━━━━━━━━━━━━━━━\u001b[0m\u001b[37m\u001b[0m \u001b[1m71s\u001b[0m 2ms/step - loss: 5.9280e-10\n",
            "Epoch 3/5\n",
            "\u001b[1m44828/44828\u001b[0m \u001b[32m━━━━━━━━━━━━━━━━━━━━\u001b[0m\u001b[37m\u001b[0m \u001b[1m72s\u001b[0m 2ms/step - loss: 1.1896e-12\n",
            "Epoch 4/5\n",
            "\u001b[1m44828/44828\u001b[0m \u001b[32m━━━━━━━━━━━━━━━━━━━━\u001b[0m\u001b[37m\u001b[0m \u001b[1m72s\u001b[0m 2ms/step - loss: 1.1432e-13\n",
            "Epoch 5/5\n",
            "\u001b[1m44828/44828\u001b[0m \u001b[32m━━━━━━━━━━━━━━━━━━━━\u001b[0m\u001b[37m\u001b[0m \u001b[1m73s\u001b[0m 2ms/step - loss: 8.1666e-14\n",
            "\u001b[1m4/4\u001b[0m \u001b[32m━━━━━━━━━━━━━━━━━━━━\u001b[0m\u001b[37m\u001b[0m \u001b[1m0s\u001b[0m 56ms/step\n"
          ]
        }
      ]
    },
    {
      "cell_type": "code",
      "source": [
        "print(\"X_train shape:\", X_train.shape)"
      ],
      "metadata": {
        "colab": {
          "base_uri": "https://localhost:8080/"
        },
        "id": "O3CIxGaOeSHv",
        "outputId": "24f02dd5-1034-4b51-a452-f7cf35e75f40"
      },
      "execution_count": 63,
      "outputs": [
        {
          "output_type": "stream",
          "name": "stdout",
          "text": [
            "X_train shape: (2868992, 10, 7)\n"
          ]
        }
      ]
    },
    {
      "cell_type": "code",
      "source": [
        "def combine_features(X, users, embeddings):\n",
        "\n",
        "    if X.ndim == 4 and X.shape[1] == 1:\n",
        "        X = X.squeeze(axis=1)\n",
        "    elif X.ndim != 3:\n",
        "        raise ValueError(f\"некорректная размерность X: {X.shape}. ожидается (N, seq_len, features).\")\n",
        "\n",
        "    user_embs = embeddings[users]\n",
        "    embeddings_expanded = np.repeat(user_embs[:, np.newaxis, :], SEQ_LENGTH, axis=1)\n",
        "\n",
        "    combined = np.concatenate([X, embeddings_expanded], axis=-1)\n",
        "    print(f\"X shape: {X.shape}, embeddings_expanded shape: {embeddings_expanded.shape}, combined shape: {combined.shape}\")\n",
        "    return combined\n",
        "\n",
        "X_train_combined = combine_features(X_train, users_train, user_embeddings)\n",
        "X_test_combined = combine_features(X_test, users_test, user_embeddings)"
      ],
      "metadata": {
        "id": "8q4GE2u8LenV",
        "colab": {
          "base_uri": "https://localhost:8080/"
        },
        "outputId": "5c5da795-fdb2-43f0-e10d-f89cfe14a732"
      },
      "execution_count": 64,
      "outputs": [
        {
          "output_type": "stream",
          "name": "stdout",
          "text": [
            "X shape: (2868992, 10, 7), embeddings_expanded shape: (2868992, 10, 16), combined shape: (2868992, 10, 23)\n",
            "X shape: (717540, 10, 7), embeddings_expanded shape: (717540, 10, 16), combined shape: (717540, 10, 23)\n"
          ]
        }
      ]
    },
    {
      "cell_type": "code",
      "source": [
        "def build_lstm_model(seq_length, embedding_dim, num_features, num_users):\n",
        "    seq_input = Input(shape=(seq_length, num_features))\n",
        "    user_input = Input(shape=(1,), dtype=tf.int32)\n",
        "\n",
        "    user_emb = Embedding(num_users, embedding_dim)(user_input)\n",
        "    user_emb = Reshape((embedding_dim,))(user_emb)\n",
        "\n",
        "    lstm_out = LSTM(LSTM_UNITS, return_sequences=False)(seq_input)\n",
        "    combined = Concatenate()([lstm_out, user_emb])\n",
        "\n",
        "    dense_out = Dense(64, activation='relu')(combined)\n",
        "    dense_out = Dense(32, activation='relu')(dense_out)\n",
        "    final_output = Dense(2, activation='linear')(dense_out)\n",
        "\n",
        "    model = Model(inputs=[seq_input, user_input], outputs=final_output)\n",
        "    model.compile(optimizer=Adam(0.001), loss='mse', metrics=['mae'])\n",
        "    return model"
      ],
      "metadata": {
        "id": "pkBKMmTWLji6"
      },
      "execution_count": 65,
      "outputs": []
    },
    {
      "cell_type": "code",
      "source": [
        "def sequence_generator(file_list, batch_size, seq_length, embedding_matrix):\n",
        "    def generator():\n",
        "        for file in file_list:\n",
        "            data = np.load(file)\n",
        "            X = data['X_train']\n",
        "            y = data['y_train']\n",
        "            user_id = data['user_id']\n",
        "            emb = embedding_matrix[user_id]\n",
        "            emb_expanded = np.repeat(emb[np.newaxis, :], seq_length, axis=0)\n",
        "\n",
        "            for i in range(0, len(X), batch_size):\n",
        "                X_batch = X[i:i+batch_size]\n",
        "                y_batch = y[i:i+batch_size]\n",
        "                u_batch = np.array([user_id] * len(X_batch))\n",
        "                emb_batch = np.repeat(emb[np.newaxis, :], len(X_batch) * seq_length, axis=0).reshape(len(X_batch), seq_length, -1)\n",
        "                yield (np.concatenate([X_batch, emb_batch], axis=-1), u_batch), y_batch\n",
        "    return generator"
      ],
      "metadata": {
        "id": "p2S6sExuqVs3"
      },
      "execution_count": 66,
      "outputs": []
    },
    {
      "cell_type": "code",
      "source": [
        "def create_dataset_from_generator(npz_folder, batch_size, seq_length, embedding_matrix, split='train'):\n",
        "    file_list = sorted([os.path.join(npz_folder, f) for f in os.listdir(npz_folder) if f.endswith('.npz')])\n",
        "\n",
        "    def dataset_gen():\n",
        "        for file in file_list:\n",
        "            data = np.load(file)\n",
        "            X = data[f'X_{split}']\n",
        "            y = data[f'y_{split}']\n",
        "            user_id = data['user_id']\n",
        "            emb = embedding_matrix[user_id]\n",
        "            emb_expanded = np.repeat(emb[np.newaxis, :], seq_length, axis=0)\n",
        "\n",
        "            for i in range(0, len(X), batch_size):\n",
        "                X_batch = X[i:i+batch_size]\n",
        "                y_batch = y[i:i+batch_size]\n",
        "                u_batch = np.array([user_id] * len(X_batch))\n",
        "                emb_batch = np.repeat(emb[np.newaxis, :], len(X_batch) * seq_length, axis=0).reshape(len(X_batch), seq_length, -1)\n",
        "                yield (np.concatenate([X_batch, emb_batch], axis=-1), u_batch), y_batch\n",
        "\n",
        "    output_signature = (\n",
        "        (\n",
        "            tf.TensorSpec(shape=(None, seq_length, X.shape[2] + embedding_matrix.shape[1]), dtype=tf.float32),\n",
        "            tf.TensorSpec(shape=(None,), dtype=tf.int32)\n",
        "        ),\n",
        "        tf.TensorSpec(shape=(None, 2), dtype=tf.float32)\n",
        "    )\n",
        "\n",
        "    return tf.data.Dataset.from_generator(\n",
        "        dataset_gen,\n",
        "        output_signature=output_signature\n",
        "    ).prefetch(tf.data.AUTOTUNE)"
      ],
      "metadata": {
        "id": "YRFK9ommqW4-"
      },
      "execution_count": 67,
      "outputs": []
    },
    {
      "cell_type": "code",
      "source": [
        "model = build_lstm_model(SEQ_LENGTH, EMBEDDING_DIM, X_train_combined.shape[2], len(user_ids))\n",
        "\n",
        "checkpoint = ModelCheckpoint(os.path.join(SAVE_PATH, 'best_model.h5'),\n",
        "                             save_best_only=True, monitor='val_loss')\n",
        "\n",
        "history = model.fit(\n",
        "    [X_train_combined, users_train], y_train,\n",
        "    validation_split=0.2,\n",
        "    epochs=EPOCHS,\n",
        "    batch_size=BATCH_SIZE,\n",
        "    callbacks=[checkpoint]\n",
        ")"
      ],
      "metadata": {
        "id": "aLTm4jCjLpp-",
        "colab": {
          "base_uri": "https://localhost:8080/"
        },
        "outputId": "a95d4ab4-4647-415c-8f7e-70ea2e088bdc"
      },
      "execution_count": 68,
      "outputs": [
        {
          "output_type": "stream",
          "name": "stdout",
          "text": [
            "Epoch 1/10\n",
            "\u001b[1m35861/35863\u001b[0m \u001b[32m━━━━━━━━━━━━━━━━━━━\u001b[0m\u001b[37m━\u001b[0m \u001b[1m0s\u001b[0m 5ms/step - loss: 0.0016 - mae: 0.0061"
          ]
        },
        {
          "output_type": "stream",
          "name": "stderr",
          "text": [
            "WARNING:absl:You are saving your model as an HDF5 file via `model.save()` or `keras.saving.save_model(model)`. This file format is considered legacy. We recommend using instead the native Keras format, e.g. `model.save('my_model.keras')` or `keras.saving.save_model(model, 'my_model.keras')`. \n"
          ]
        },
        {
          "output_type": "stream",
          "name": "stdout",
          "text": [
            "\b\b\b\b\b\b\b\b\b\b\b\b\b\b\b\b\b\b\b\b\b\b\b\b\b\b\b\b\b\b\b\b\b\b\b\b\b\b\b\b\b\b\b\b\b\b\b\b\b\b\b\b\b\b\b\b\b\b\b\b\b\b\b\b\b\b\b\b\b\b\b\b\b\r\u001b[1m35863/35863\u001b[0m \u001b[32m━━━━━━━━━━━━━━━━━━━━\u001b[0m\u001b[37m\u001b[0m \u001b[1m196s\u001b[0m 5ms/step - loss: 0.0016 - mae: 0.0061 - val_loss: 0.0036 - val_mae: 0.0062\n",
            "Epoch 2/10\n",
            "\u001b[1m35863/35863\u001b[0m \u001b[32m━━━━━━━━━━━━━━━━━━━━\u001b[0m\u001b[37m\u001b[0m \u001b[1m196s\u001b[0m 5ms/step - loss: 3.8955e-06 - mae: 0.0013 - val_loss: 0.0043 - val_mae: 0.0069\n",
            "Epoch 3/10\n",
            "\u001b[1m35863/35863\u001b[0m \u001b[32m━━━━━━━━━━━━━━━━━━━━\u001b[0m\u001b[37m\u001b[0m \u001b[1m197s\u001b[0m 5ms/step - loss: 2.4820e-06 - mae: 9.9209e-04 - val_loss: 0.0054 - val_mae: 0.0067\n",
            "Epoch 4/10\n",
            "\u001b[1m35863/35863\u001b[0m \u001b[32m━━━━━━━━━━━━━━━━━━━━\u001b[0m\u001b[37m\u001b[0m \u001b[1m197s\u001b[0m 6ms/step - loss: 2.0580e-06 - mae: 8.3603e-04 - val_loss: 0.0059 - val_mae: 0.0068\n",
            "Epoch 5/10\n",
            "\u001b[1m35863/35863\u001b[0m \u001b[32m━━━━━━━━━━━━━━━━━━━━\u001b[0m\u001b[37m\u001b[0m \u001b[1m195s\u001b[0m 5ms/step - loss: 1.7156e-06 - mae: 7.7407e-04 - val_loss: 0.0097 - val_mae: 0.0085\n",
            "Epoch 6/10\n",
            "\u001b[1m35863/35863\u001b[0m \u001b[32m━━━━━━━━━━━━━━━━━━━━\u001b[0m\u001b[37m\u001b[0m \u001b[1m195s\u001b[0m 5ms/step - loss: 1.7211e-06 - mae: 6.9065e-04 - val_loss: 0.0087 - val_mae: 0.0078\n",
            "Epoch 7/10\n",
            "\u001b[1m35863/35863\u001b[0m \u001b[32m━━━━━━━━━━━━━━━━━━━━\u001b[0m\u001b[37m\u001b[0m \u001b[1m196s\u001b[0m 5ms/step - loss: 1.3450e-06 - mae: 6.2355e-04 - val_loss: 0.0093 - val_mae: 0.0082\n",
            "Epoch 8/10\n",
            "\u001b[1m35863/35863\u001b[0m \u001b[32m━━━━━━━━━━━━━━━━━━━━\u001b[0m\u001b[37m\u001b[0m \u001b[1m195s\u001b[0m 5ms/step - loss: 1.4274e-06 - mae: 6.0649e-04 - val_loss: 0.0076 - val_mae: 0.0080\n",
            "Epoch 9/10\n",
            "\u001b[1m35863/35863\u001b[0m \u001b[32m━━━━━━━━━━━━━━━━━━━━\u001b[0m\u001b[37m\u001b[0m \u001b[1m195s\u001b[0m 5ms/step - loss: 1.3648e-06 - mae: 5.4131e-04 - val_loss: 0.0055 - val_mae: 0.0073\n",
            "Epoch 10/10\n",
            "\u001b[1m35863/35863\u001b[0m \u001b[32m━━━━━━━━━━━━━━━━━━━━\u001b[0m\u001b[37m\u001b[0m \u001b[1m195s\u001b[0m 5ms/step - loss: 1.1427e-06 - mae: 5.0132e-04 - val_loss: 0.0057 - val_mae: 0.0070\n"
          ]
        }
      ]
    },
    {
      "cell_type": "code",
      "source": [
        "def calculate_metrics(preds, targets):\n",
        "    ade = np.mean(np.linalg.norm(preds - targets, axis=-1))\n",
        "    fde = np.linalg.norm(preds[:, -1] - targets[:, -1], axis=-1).mean()\n",
        "    distances = np.linalg.norm(preds[:, None] - targets[:, :, None], axis=-1)\n",
        "    acc1 = np.mean(np.argmin(distances, axis=-1) == 0)\n",
        "    return ade, fde, acc1\n",
        "\n",
        "model.load_weights(os.path.join(SAVE_PATH, 'best_model.h5'))\n",
        "y_pred = model.predict([X_test_combined, users_test])\n",
        "\n",
        "ade, fde, acc1 = calculate_metrics(y_pred, y_test)\n",
        "print(f\"ADE: {ade:.4f}, FDE: {fde:.4f}, Accuracy@1: {acc1:.4f}\")\n",
        "\n",
        "plt.plot(history.history['loss'], label='Train Loss')\n",
        "plt.plot(history.history['val_loss'], label='Validation Loss')\n",
        "plt.legend()\n",
        "plt.show()"
      ],
      "metadata": {
        "id": "P2ChXk7DLv0K",
        "colab": {
          "base_uri": "https://localhost:8080/",
          "height": 501
        },
        "outputId": "c19a266f-3382-4db4-a7cb-31aa3e73c1fe"
      },
      "execution_count": 69,
      "outputs": [
        {
          "output_type": "stream",
          "name": "stderr",
          "text": [
            "WARNING:tensorflow:5 out of the last 427 calls to <function TensorFlowTrainer.make_predict_function.<locals>.one_step_on_data_distributed at 0x7eb5c81f27a0> triggered tf.function retracing. Tracing is expensive and the excessive number of tracings could be due to (1) creating @tf.function repeatedly in a loop, (2) passing tensors with different shapes, (3) passing Python objects instead of tensors. For (1), please define your @tf.function outside of the loop. For (2), @tf.function has reduce_retracing=True option that can avoid unnecessary retracing. For (3), please refer to https://www.tensorflow.org/guide/function#controlling_retracing and https://www.tensorflow.org/api_docs/python/tf/function for  more details.\n"
          ]
        },
        {
          "output_type": "stream",
          "name": "stdout",
          "text": [
            "\u001b[1m22424/22424\u001b[0m \u001b[32m━━━━━━━━━━━━━━━━━━━━\u001b[0m\u001b[37m\u001b[0m \u001b[1m39s\u001b[0m 2ms/step\n",
            "ADE: 0.0071, FDE: 54.5374, Accuracy@1: 0.4120\n"
          ]
        },
        {
          "output_type": "display_data",
          "data": {
            "text/plain": [
              "<Figure size 640x480 with 1 Axes>"
            ],
            "image/png": "[encoded data removed]"
          },
          "metadata": {}
        }
      ]
    }
  ]
}