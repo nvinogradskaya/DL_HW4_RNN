{
  "nbformat": 4,
  "nbformat_minor": 0,
  "metadata": {
    "colab": {
      "provenance": [],
      "machine_shape": "hm",
      "gpuType": "T4",
      "authorship_tag": "ABX9TyMluDTd+GAHmuuLOtdZTS/k",
      "include_colab_link": true
    },
    "kernelspec": {
      "name": "python3",
      "display_name": "Python 3"
    },
    "language_info": {
      "name": "python"
    },
    "accelerator": "GPU"
  },
  "cells": [
    {
      "cell_type": "markdown",
      "metadata": {
        "id": "view-in-github",
        "colab_type": "text"
      },
      "source": [
        "<a href=\"https://colab.research.google.com/github/nvinogradskaya/DL_HW4_RNN/blob/main/LSTM%2BContrastive3.ipynb\" target=\"_parent\"><img src=\"https://colab.research.google.com/assets/colab-badge.svg\" alt=\"Open In Colab\"/></a>"
      ]
    },
    {
      "cell_type": "code",
      "execution_count": 1,
      "metadata": {
        "id": "c2M8C_JsKWBR"
      },
      "outputs": [],
      "source": [
        "import os\n",
        "import pickle\n",
        "import numpy as np\n",
        "import pandas as pd\n",
        "import tensorflow as tf\n",
        "from tensorflow.keras.models import Model\n",
        "from tensorflow.keras.layers import LSTM, Dense, Embedding, Concatenate, Input, Reshape\n",
        "from tensorflow.keras.optimizers import Adam\n",
        "from tensorflow.keras.callbacks import ModelCheckpoint, EarlyStopping\n",
        "from sklearn.preprocessing import MinMaxScaler\n",
        "from sklearn.model_selection import train_test_split\n",
        "import matplotlib.pyplot as plt\n",
        "import json"
      ]
    },
    {
      "cell_type": "code",
      "source": [
        "from google.colab import drive\n",
        "SEQ_LENGTH = 10\n",
        "EMBEDDING_DIM = 16\n",
        "LSTM_UNITS = 64\n",
        "BATCH_SIZE = 64\n",
        "EPOCHS = 10\n",
        "TEST_SIZE = 0.2\n",
        "drive.mount('/content/drive')\n",
        "DATA_PATH = \"/content/drive/My Drive/Colab Notebooks/Data/\"\n",
        "SAVE_PATH = \"/content/drive/My Drive/Colab Notebooks/contrastive_results3/\"\n",
        "SEQ_SAVE_PATH = os.path.join(SAVE_PATH, 'sequences/')\n",
        "os.makedirs(SAVE_PATH, exist_ok=True)\n",
        "os.makedirs(SEQ_SAVE_PATH, exist_ok=True)"
      ],
      "metadata": {
        "colab": {
          "base_uri": "https://localhost:8080/"
        },
        "id": "1Aei32AOGKCn",
        "outputId": "7504f1f4-7614-4f49-a0b8-708484f42e04"
      },
      "execution_count": 2,
      "outputs": [
        {
          "output_type": "stream",
          "name": "stdout",
          "text": [
            "Mounted at /content/drive\n"
          ]
        }
      ]
    },
    {
      "cell_type": "code",
      "source": [
        "def load_and_preprocess_data(data_path, max_users=100, max_files_per_user=30):  # <- Добавлено\n",
        "    data = []\n",
        "    user_dirs = sorted(os.listdir(data_path))[:max_users]\n",
        "\n",
        "    for user in user_dirs:\n",
        "        traj_dir = os.path.join(data_path, user, 'Trajectory')\n",
        "        traj_files = sorted([f for f in os.listdir(traj_dir) if f.endswith('.plt')])[:max_files_per_user]  # <- Ограничение\n",
        "\n",
        "        for traj_file in traj_files:\n",
        "            df = pd.read_csv(\n",
        "                os.path.join(traj_dir, traj_file),\n",
        "                skiprows=6,\n",
        "                header=None,\n",
        "                usecols=[0, 1, 3, 5, 6],\n",
        "                names=['lat', 'lon', 'alt', 'date', 'time']\n",
        "            )\n",
        "            df['user'] = user\n",
        "            data.append(df)\n",
        "\n",
        "    df = pd.concat(data, ignore_index=True)\n",
        "    df['datetime'] = pd.to_datetime(df['date'] + ' ' + df['time'])\n",
        "    df.sort_values(by=['user', 'datetime'], inplace=True)\n",
        "    df = df[(df['lat'] != 0) & (df['lon'] != 0)].ffill()\n",
        "\n",
        "    scaler = MinMaxScaler()\n",
        "    df[['lat', 'lon', 'alt']] = scaler.fit_transform(df[['lat', 'lon', 'alt']])\n",
        "\n",
        "    df['hour_sin'] = np.sin(2 * np.pi * df['datetime'].dt.hour / 24)\n",
        "    df['hour_cos'] = np.cos(2 * np.pi * df['datetime'].dt.hour / 24)\n",
        "    df['day_sin'] = np.sin(2 * np.pi * df['datetime'].dt.dayofweek / 7)\n",
        "    df['day_cos'] = np.cos(2 * np.pi * df['datetime'].dt.dayofweek / 7)\n",
        "\n",
        "    user_ids = {user: idx for idx, user in enumerate(df['user'].unique())}\n",
        "    df['user_id'] = df['user'].map(user_ids)\n",
        "\n",
        "    return df, user_ids, scaler"
      ],
      "metadata": {
        "id": "7Cq_kIMrG4i_"
      },
      "execution_count": 35,
      "outputs": []
    },
    {
      "cell_type": "code",
      "source": [
        "df, user_ids, scaler = load_and_preprocess_data(DATA_PATH, max_users=100, max_files_per_user=10)"
      ],
      "metadata": {
        "id": "_Y3G-kOMG_pE"
      },
      "execution_count": 36,
      "outputs": []
    },
    {
      "cell_type": "code",
      "source": [
        "def create_sequences_and_save(df, user_ids, seq_length, test_size=0.2, save_path='./seq_data'):\n",
        "    os.makedirs(save_path, exist_ok=True)\n",
        "    features = ['lat', 'lon', 'alt', 'hour_sin', 'hour_cos', 'day_sin', 'day_cos']\n",
        "    targets = ['lat', 'lon']\n",
        "\n",
        "    for user, user_df in df.groupby('user'):\n",
        "        uid = user_ids[user]\n",
        "        user_df = user_df.reset_index(drop=True)\n",
        "        split_idx = int(len(user_df) * (1 - test_size))\n",
        "        if split_idx <= seq_length:\n",
        "            continue\n",
        "\n",
        "        def process_chunk(data, is_train=True):\n",
        "            window_size = seq_length + 1\n",
        "            data_values = data[features].values\n",
        "\n",
        "            # Проверка на достаточность данных\n",
        "            if len(data_values) < window_size:\n",
        "                print(f\"Недостаточно данных для пользователя {uid}. Пропуск.\")\n",
        "                return [], []\n",
        "\n",
        "            # Создание окон и удаление лишней оси\n",
        "            X = np.lib.stride_tricks.sliding_window_view(data_values, (window_size, data_values.shape[1]))\n",
        "            X = X.squeeze(axis=1)  # Удаляем ось с размером 1\n",
        "            X = X[:, :-1]  # Форма: (N, seq_length, features)\n",
        "            y = data[targets].values[seq_length:]\n",
        "\n",
        "            # Сохранение чанков\n",
        "            chunk_size = 1000\n",
        "            for i in range(0, len(X), chunk_size):\n",
        "                save_chunk(X[i:i+chunk_size], y[i:i+chunk_size], is_train)\n",
        "\n",
        "            return [], []\n",
        "\n",
        "        def save_chunk(X, y, is_train):\n",
        "            suffix = 'train' if is_train else 'test'\n",
        "            chunk_id = uuid.uuid4().hex\n",
        "            np.savez_compressed(\n",
        "                os.path.join(save_path, f'user_{uid}_{suffix}_{chunk_id}.npz'),\n",
        "                X=X,\n",
        "                y=y\n",
        "            )\n",
        "\n",
        "        process_chunk(user_df.iloc[:split_idx], is_train=True)\n",
        "        process_chunk(user_df.iloc[split_idx-seq_length:], is_train=False)"
      ],
      "metadata": {
        "id": "7AQ_kfm61O80"
      },
      "execution_count": 37,
      "outputs": []
    },
    {
      "cell_type": "code",
      "source": [
        "import shutil\n",
        "shutil.rmtree(SEQ_SAVE_PATH)\n",
        "os.makedirs(SEQ_SAVE_PATH, exist_ok=True)"
      ],
      "metadata": {
        "id": "akeJ-Bzje7Sv"
      },
      "execution_count": 38,
      "outputs": []
    },
    {
      "cell_type": "code",
      "source": [
        "import uuid\n",
        "create_sequences_and_save(df, user_ids, SEQ_LENGTH, save_path=SEQ_SAVE_PATH)"
      ],
      "metadata": {
        "id": "tE535dYW1Pq_"
      },
      "execution_count": 39,
      "outputs": []
    },
    {
      "cell_type": "code",
      "source": [
        "def load_all_sequences_from_disk(save_path):\n",
        "    X_train, X_test, y_train, y_test, users_train, users_test = [], [], [], [], [], []\n",
        "\n",
        "    for fname in sorted(os.listdir(save_path)):\n",
        "        if not fname.endswith('.npz'):\n",
        "            continue\n",
        "\n",
        "        # Определяем тип данных (train/test) из имени файла\n",
        "        if 'train' in fname:\n",
        "            split_type = 'train'\n",
        "        elif 'test' in fname:\n",
        "            split_type = 'test'\n",
        "        else:\n",
        "            continue  # Пропускаем файлы без указания типа\n",
        "\n",
        "        # Извлекаем user_id из имени файла (формат: user_{uid}_{split}_...)\n",
        "        uid = int(fname.split('_')[1])\n",
        "\n",
        "        data = np.load(os.path.join(save_path, fname))\n",
        "\n",
        "        # Загружаем данные с новыми ключами 'X' и 'y'\n",
        "        X = data['X']\n",
        "        y = data['y']\n",
        "\n",
        "        # Добавляем в соответствующие списки\n",
        "        if split_type == 'train':\n",
        "            X_train.append(X)\n",
        "            y_train.append(y)\n",
        "            users_train.append(np.full(len(X), uid))\n",
        "        else:\n",
        "            X_test.append(X)\n",
        "            y_test.append(y)\n",
        "            users_test.append(np.full(len(X), uid))\n",
        "\n",
        "    # Конкатенация данных\n",
        "    return (\n",
        "        np.concatenate(X_train), np.concatenate(X_test),\n",
        "        np.concatenate(y_train), np.concatenate(y_test),\n",
        "        np.concatenate(users_train), np.concatenate(users_test)\n",
        "    )"
      ],
      "metadata": {
        "id": "22S4yFMPpoYb"
      },
      "execution_count": 40,
      "outputs": []
    },
    {
      "cell_type": "code",
      "source": [
        "X_train, X_test, y_train, y_test, users_train, users_test = load_all_sequences_from_disk(SEQ_SAVE_PATH)\n",
        "print(\"X_train shape:\", X_train.shape)  # Должно быть (N, SEQ_LENGTH, features)"
      ],
      "metadata": {
        "id": "dMqM1fpmpqQZ",
        "colab": {
          "base_uri": "https://localhost:8080/"
        },
        "outputId": "32d6985b-21f7-4003-df61-f6d33b3d5184"
      },
      "execution_count": 41,
      "outputs": [
        {
          "output_type": "stream",
          "name": "stdout",
          "text": [
            "X_train shape: (53942, 10, 7)\n"
          ]
        }
      ]
    },
    {
      "cell_type": "code",
      "source": [
        "class ContrastiveModel(tf.keras.Model):\n",
        "    def __init__(self, num_users, embedding_dim):\n",
        "        super().__init__()\n",
        "        self.embedding = Embedding(num_users, embedding_dim)\n",
        "        self.dense = Dense(embedding_dim, activation='tanh')\n",
        "\n",
        "    def call(self, inputs):\n",
        "        user_id = inputs\n",
        "        user_emb = self.embedding(user_id)\n",
        "        return self.dense(user_emb)\n",
        "\n",
        "    def train_step(self, data):\n",
        "        users, _ = data  # Игнорируем метки, так как они фиктивные\n",
        "        with tf.GradientTape() as tape:\n",
        "            embeddings = self(users)\n",
        "\n",
        "            # Генерируем пары (anchor, positive) внутри батча\n",
        "            anchor = embeddings[:-1]  # Все, кроме последнего\n",
        "            positive = embeddings[1:]  # Все, кроме первого\n",
        "\n",
        "            # Вычисляем контрастную потерю\n",
        "            distances = tf.reduce_sum(tf.square(anchor - positive), axis=-1)\n",
        "            loss = self.compiled_loss(tf.zeros_like(distances), distances)  # Фиктивные метки\n",
        "\n",
        "        gradients = tape.gradient(loss, self.trainable_variables)\n",
        "        self.optimizer.apply_gradients(zip(gradients, self.trainable_variables))\n",
        "        return {'loss': loss}"
      ],
      "metadata": {
        "id": "-tyAEHfmLQZ-"
      },
      "execution_count": 42,
      "outputs": []
    },
    {
      "cell_type": "code",
      "source": [
        "contrastive_model = ContrastiveModel(num_users=len(user_ids), embedding_dim=EMBEDDING_DIM)\n",
        "contrastive_model.compile(optimizer=Adam(0.001), loss=tf.keras.losses.MeanSquaredError())\n",
        "contrastive_model.fit(users_train, np.zeros(len(users_train)), epochs=5, batch_size=BATCH_SIZE)\n",
        "user_embeddings = contrastive_model.predict(np.unique(users_train))"
      ],
      "metadata": {
        "id": "_BH_OcNcLYzZ",
        "colab": {
          "base_uri": "https://localhost:8080/"
        },
        "outputId": "c8da86da-4f40-4ff0-b245-f791d0e56332"
      },
      "execution_count": 43,
      "outputs": [
        {
          "output_type": "stream",
          "name": "stdout",
          "text": [
            "Epoch 1/5\n"
          ]
        },
        {
          "output_type": "stream",
          "name": "stderr",
          "text": [
            "/usr/local/lib/python3.11/dist-packages/keras/src/backend/tensorflow/trainer.py:667: UserWarning: `model.compiled_loss()` is deprecated. Instead, use `model.compute_loss(x, y, y_pred, sample_weight, training)`.\n",
            "  warnings.warn(\n"
          ]
        },
        {
          "output_type": "stream",
          "name": "stdout",
          "text": [
            "\u001b[1m843/843\u001b[0m \u001b[32m━━━━━━━━━━━━━━━━━━━━\u001b[0m\u001b[37m\u001b[0m \u001b[1m2s\u001b[0m 2ms/step - loss: 1.4737e-06\n",
            "Epoch 2/5\n",
            "\u001b[1m843/843\u001b[0m \u001b[32m━━━━━━━━━━━━━━━━━━━━\u001b[0m\u001b[37m\u001b[0m \u001b[1m1s\u001b[0m 2ms/step - loss: 8.6893e-10\n",
            "Epoch 3/5\n",
            "\u001b[1m843/843\u001b[0m \u001b[32m━━━━━━━━━━━━━━━━━━━━\u001b[0m\u001b[37m\u001b[0m \u001b[1m1s\u001b[0m 2ms/step - loss: 2.3779e-10\n",
            "Epoch 4/5\n",
            "\u001b[1m843/843\u001b[0m \u001b[32m━━━━━━━━━━━━━━━━━━━━\u001b[0m\u001b[37m\u001b[0m \u001b[1m1s\u001b[0m 2ms/step - loss: 1.0276e-10\n",
            "Epoch 5/5\n",
            "\u001b[1m843/843\u001b[0m \u001b[32m━━━━━━━━━━━━━━━━━━━━\u001b[0m\u001b[37m\u001b[0m \u001b[1m1s\u001b[0m 2ms/step - loss: 5.5864e-11\n",
            "\u001b[1m1/1\u001b[0m \u001b[32m━━━━━━━━━━━━━━━━━━━━\u001b[0m\u001b[37m\u001b[0m \u001b[1m0s\u001b[0m 117ms/step\n"
          ]
        }
      ]
    },
    {
      "cell_type": "code",
      "source": [
        "print(\"X_train shape:\", X_train.shape)  # Должно быть (N, SEQ_LENGTH, features)"
      ],
      "metadata": {
        "colab": {
          "base_uri": "https://localhost:8080/"
        },
        "id": "O3CIxGaOeSHv",
        "outputId": "a5515aa8-004a-45d1-8896-05a5b8778383"
      },
      "execution_count": 44,
      "outputs": [
        {
          "output_type": "stream",
          "name": "stdout",
          "text": [
            "X_train shape: (53942, 10, 7)\n"
          ]
        }
      ]
    },
    {
      "cell_type": "code",
      "source": [
        "def combine_features(X, users, embeddings):\n",
        "    # Проверка и коррекция размерности\n",
        "    if X.ndim == 4 and X.shape[1] == 1:\n",
        "        X = X.squeeze(axis=1)  # Удаляем ось с размером 1\n",
        "    elif X.ndim != 3:\n",
        "        raise ValueError(f\"Некорректная размерность X: {X.shape}. Ожидается (N, seq_len, features).\")\n",
        "\n",
        "    # Получение эмбеддингов и их расширение\n",
        "    user_embs = embeddings[users]  # Форма: (N, embedding_dim)\n",
        "    embeddings_expanded = np.repeat(user_embs[:, np.newaxis, :], SEQ_LENGTH, axis=1)  # (N, seq_len, embedding_dim)\n",
        "\n",
        "    # Объединение данных\n",
        "    combined = np.concatenate([X, embeddings_expanded], axis=-1)\n",
        "    print(f\"X shape: {X.shape}, embeddings_expanded shape: {embeddings_expanded.shape}, combined shape: {combined.shape}\")\n",
        "    return combined\n",
        "\n",
        "X_train_combined = combine_features(X_train, users_train, user_embeddings)\n",
        "X_test_combined = combine_features(X_test, users_test, user_embeddings)"
      ],
      "metadata": {
        "id": "8q4GE2u8LenV",
        "colab": {
          "base_uri": "https://localhost:8080/"
        },
        "outputId": "ef146220-5d5f-45a6-e84f-5a6a4afaf18f"
      },
      "execution_count": 45,
      "outputs": [
        {
          "output_type": "stream",
          "name": "stdout",
          "text": [
            "X shape: (53942, 10, 7), embeddings_expanded shape: (53942, 10, 16), combined shape: (53942, 10, 23)\n",
            "X shape: (13501, 10, 7), embeddings_expanded shape: (13501, 10, 16), combined shape: (13501, 10, 23)\n"
          ]
        }
      ]
    },
    {
      "cell_type": "code",
      "source": [
        "def build_lstm_model(seq_length, embedding_dim, num_features, num_users):\n",
        "    seq_input = Input(shape=(seq_length, num_features))\n",
        "    user_input = Input(shape=(1,), dtype=tf.int32)\n",
        "\n",
        "    user_emb = Embedding(num_users, embedding_dim)(user_input)\n",
        "    user_emb = Reshape((embedding_dim,))(user_emb)\n",
        "\n",
        "    lstm_out = LSTM(LSTM_UNITS, return_sequences=False)(seq_input)\n",
        "    combined = Concatenate()([lstm_out, user_emb])\n",
        "\n",
        "    dense_out = Dense(64, activation='relu')(combined)\n",
        "    dense_out = Dense(32, activation='relu')(dense_out)\n",
        "    final_output = Dense(2, activation='linear')(dense_out)\n",
        "\n",
        "    model = Model(inputs=[seq_input, user_input], outputs=final_output)\n",
        "    model.compile(optimizer=Adam(0.001), loss='mse', metrics=['mae'])\n",
        "    return model"
      ],
      "metadata": {
        "id": "pkBKMmTWLji6"
      },
      "execution_count": 46,
      "outputs": []
    },
    {
      "cell_type": "code",
      "source": [
        "def sequence_generator(file_list, batch_size, seq_length, embedding_matrix):\n",
        "    def generator():\n",
        "        for file in file_list:\n",
        "            data = np.load(file)\n",
        "            X = data['X_train']\n",
        "            y = data['y_train']\n",
        "            user_id = data['user_id']\n",
        "            emb = embedding_matrix[user_id]\n",
        "            emb_expanded = np.repeat(emb[np.newaxis, :], seq_length, axis=0)\n",
        "\n",
        "            for i in range(0, len(X), batch_size):\n",
        "                X_batch = X[i:i+batch_size]\n",
        "                y_batch = y[i:i+batch_size]\n",
        "                u_batch = np.array([user_id] * len(X_batch))\n",
        "                emb_batch = np.repeat(emb[np.newaxis, :], len(X_batch) * seq_length, axis=0).reshape(len(X_batch), seq_length, -1)\n",
        "                yield (np.concatenate([X_batch, emb_batch], axis=-1), u_batch), y_batch\n",
        "    return generator"
      ],
      "metadata": {
        "id": "p2S6sExuqVs3"
      },
      "execution_count": 47,
      "outputs": []
    },
    {
      "cell_type": "code",
      "source": [
        "def create_dataset_from_generator(npz_folder, batch_size, seq_length, embedding_matrix, split='train'):\n",
        "    file_list = sorted([os.path.join(npz_folder, f) for f in os.listdir(npz_folder) if f.endswith('.npz')])\n",
        "\n",
        "    def dataset_gen():\n",
        "        for file in file_list:\n",
        "            data = np.load(file)\n",
        "            X = data[f'X_{split}']\n",
        "            y = data[f'y_{split}']\n",
        "            user_id = data['user_id']\n",
        "            emb = embedding_matrix[user_id]\n",
        "            emb_expanded = np.repeat(emb[np.newaxis, :], seq_length, axis=0)\n",
        "\n",
        "            for i in range(0, len(X), batch_size):\n",
        "                X_batch = X[i:i+batch_size]\n",
        "                y_batch = y[i:i+batch_size]\n",
        "                u_batch = np.array([user_id] * len(X_batch))\n",
        "                emb_batch = np.repeat(emb[np.newaxis, :], len(X_batch) * seq_length, axis=0).reshape(len(X_batch), seq_length, -1)\n",
        "                yield (np.concatenate([X_batch, emb_batch], axis=-1), u_batch), y_batch\n",
        "\n",
        "    output_signature = (\n",
        "        (\n",
        "            tf.TensorSpec(shape=(None, seq_length, X.shape[2] + embedding_matrix.shape[1]), dtype=tf.float32),\n",
        "            tf.TensorSpec(shape=(None,), dtype=tf.int32)\n",
        "        ),\n",
        "        tf.TensorSpec(shape=(None, 2), dtype=tf.float32)\n",
        "    )\n",
        "\n",
        "    return tf.data.Dataset.from_generator(\n",
        "        dataset_gen,\n",
        "        output_signature=output_signature\n",
        "    ).prefetch(tf.data.AUTOTUNE)"
      ],
      "metadata": {
        "id": "YRFK9ommqW4-"
      },
      "execution_count": 48,
      "outputs": []
    },
    {
      "cell_type": "code",
      "source": [
        "model = build_lstm_model(SEQ_LENGTH, EMBEDDING_DIM, X_train_combined.shape[2], len(user_ids))\n",
        "\n",
        "checkpoint = ModelCheckpoint(os.path.join(SAVE_PATH, 'best_model.h5'),\n",
        "                             save_best_only=True, monitor='val_loss')\n",
        "\n",
        "history = model.fit(\n",
        "    [X_train_combined, users_train], y_train,\n",
        "    validation_split=0.2,\n",
        "    epochs=EPOCHS,\n",
        "    batch_size=BATCH_SIZE,\n",
        "    callbacks=[checkpoint]\n",
        ")"
      ],
      "metadata": {
        "id": "aLTm4jCjLpp-",
        "colab": {
          "base_uri": "https://localhost:8080/"
        },
        "outputId": "6d2bd67c-96e6-4cd2-c97d-574917b2011d"
      },
      "execution_count": 50,
      "outputs": [
        {
          "output_type": "stream",
          "name": "stdout",
          "text": [
            "Epoch 1/5\n",
            "\u001b[1m670/675\u001b[0m \u001b[32m━━━━━━━━━━━━━━━━━━━\u001b[0m\u001b[37m━\u001b[0m \u001b[1m0s\u001b[0m 5ms/step - loss: 0.0291 - mae: 0.0775"
          ]
        },
        {
          "output_type": "stream",
          "name": "stderr",
          "text": [
            "WARNING:absl:You are saving your model as an HDF5 file via `model.save()` or `keras.saving.save_model(model)`. This file format is considered legacy. We recommend using instead the native Keras format, e.g. `model.save('my_model.keras')` or `keras.saving.save_model(model, 'my_model.keras')`. \n"
          ]
        },
        {
          "output_type": "stream",
          "name": "stdout",
          "text": [
            "\b\b\b\b\b\b\b\b\b\b\b\b\b\b\b\b\b\b\b\b\b\b\b\b\b\b\b\b\b\b\b\b\b\b\b\b\b\b\b\b\b\b\b\b\b\b\b\b\b\b\b\b\b\b\b\b\b\b\b\b\b\b\b\b\b\b\b\b\b\r\u001b[1m675/675\u001b[0m \u001b[32m━━━━━━━━━━━━━━━━━━━━\u001b[0m\u001b[37m\u001b[0m \u001b[1m7s\u001b[0m 6ms/step - loss: 0.0289 - mae: 0.0771 - val_loss: 0.0012 - val_mae: 0.0160\n",
            "Epoch 2/5\n",
            "\u001b[1m670/675\u001b[0m \u001b[32m━━━━━━━━━━━━━━━━━━━\u001b[0m\u001b[37m━\u001b[0m \u001b[1m0s\u001b[0m 5ms/step - loss: 1.1280e-04 - mae: 0.0054"
          ]
        },
        {
          "output_type": "stream",
          "name": "stderr",
          "text": [
            "WARNING:absl:You are saving your model as an HDF5 file via `model.save()` or `keras.saving.save_model(model)`. This file format is considered legacy. We recommend using instead the native Keras format, e.g. `model.save('my_model.keras')` or `keras.saving.save_model(model, 'my_model.keras')`. \n"
          ]
        },
        {
          "output_type": "stream",
          "name": "stdout",
          "text": [
            "\b\b\b\b\b\b\b\b\b\b\b\b\b\b\b\b\b\b\b\b\b\b\b\b\b\b\b\b\b\b\b\b\b\b\b\b\b\b\b\b\b\b\b\b\b\b\b\b\b\b\b\b\b\b\b\b\b\b\b\b\b\b\b\b\b\b\b\b\b\b\b\b\b\r\u001b[1m675/675\u001b[0m \u001b[32m━━━━━━━━━━━━━━━━━━━━\u001b[0m\u001b[37m\u001b[0m \u001b[1m4s\u001b[0m 6ms/step - loss: 1.1258e-04 - mae: 0.0054 - val_loss: 0.0012 - val_mae: 0.0184\n",
            "Epoch 3/5\n",
            "\u001b[1m665/675\u001b[0m \u001b[32m━━━━━━━━━━━━━━━━━━━\u001b[0m\u001b[37m━\u001b[0m \u001b[1m0s\u001b[0m 5ms/step - loss: 9.5607e-05 - mae: 0.0051"
          ]
        },
        {
          "output_type": "stream",
          "name": "stderr",
          "text": [
            "WARNING:absl:You are saving your model as an HDF5 file via `model.save()` or `keras.saving.save_model(model)`. This file format is considered legacy. We recommend using instead the native Keras format, e.g. `model.save('my_model.keras')` or `keras.saving.save_model(model, 'my_model.keras')`. \n"
          ]
        },
        {
          "output_type": "stream",
          "name": "stdout",
          "text": [
            "\b\b\b\b\b\b\b\b\b\b\b\b\b\b\b\b\b\b\b\b\b\b\b\b\b\b\b\b\b\b\b\b\b\b\b\b\b\b\b\b\b\b\b\b\b\b\b\b\b\b\b\b\b\b\b\b\b\b\b\b\b\b\b\b\b\b\b\b\b\b\b\b\b\r\u001b[1m675/675\u001b[0m \u001b[32m━━━━━━━━━━━━━━━━━━━━\u001b[0m\u001b[37m\u001b[0m \u001b[1m4s\u001b[0m 6ms/step - loss: 9.5320e-05 - mae: 0.0051 - val_loss: 9.9394e-04 - val_mae: 0.0150\n",
            "Epoch 4/5\n",
            "\u001b[1m675/675\u001b[0m \u001b[32m━━━━━━━━━━━━━━━━━━━━\u001b[0m\u001b[37m\u001b[0m \u001b[1m4s\u001b[0m 5ms/step - loss: 8.2859e-05 - mae: 0.0048 - val_loss: 0.0010 - val_mae: 0.0154\n",
            "Epoch 5/5\n",
            "\u001b[1m669/675\u001b[0m \u001b[32m━━━━━━━━━━━━━━━━━━━\u001b[0m\u001b[37m━\u001b[0m \u001b[1m0s\u001b[0m 5ms/step - loss: 6.4100e-05 - mae: 0.0043"
          ]
        },
        {
          "output_type": "stream",
          "name": "stderr",
          "text": [
            "WARNING:absl:You are saving your model as an HDF5 file via `model.save()` or `keras.saving.save_model(model)`. This file format is considered legacy. We recommend using instead the native Keras format, e.g. `model.save('my_model.keras')` or `keras.saving.save_model(model, 'my_model.keras')`. \n"
          ]
        },
        {
          "output_type": "stream",
          "name": "stdout",
          "text": [
            "\b\b\b\b\b\b\b\b\b\b\b\b\b\b\b\b\b\b\b\b\b\b\b\b\b\b\b\b\b\b\b\b\b\b\b\b\b\b\b\b\b\b\b\b\b\b\b\b\b\b\b\b\b\b\b\b\b\b\b\b\b\b\b\b\b\b\b\b\b\b\b\b\b\r\u001b[1m675/675\u001b[0m \u001b[32m━━━━━━━━━━━━━━━━━━━━\u001b[0m\u001b[37m\u001b[0m \u001b[1m4s\u001b[0m 6ms/step - loss: 6.4159e-05 - mae: 0.0043 - val_loss: 9.0865e-04 - val_mae: 0.0149\n"
          ]
        }
      ]
    },
    {
      "cell_type": "code",
      "source": [
        "def calculate_metrics(preds, targets):\n",
        "    ade = np.mean(np.linalg.norm(preds - targets, axis=-1))\n",
        "    fde = np.linalg.norm(preds[:, -1] - targets[:, -1], axis=-1).mean()\n",
        "    distances = np.linalg.norm(preds[:, None] - targets[:, :, None], axis=-1)\n",
        "    acc1 = np.mean(np.argmin(distances, axis=-1) == 0)\n",
        "    return ade, fde, acc1\n",
        "\n",
        "model.load_weights(os.path.join(SAVE_PATH, 'best_model.h5'))\n",
        "y_pred = model.predict([X_test_combined, users_test])\n",
        "\n",
        "ade, fde, acc1 = calculate_metrics(y_pred, y_test)\n",
        "print(f\"ADE: {ade:.4f}, FDE: {fde:.4f}, Accuracy@1: {acc1:.4f}\")\n",
        "\n",
        "plt.plot(history.history['loss'], label='Train Loss')\n",
        "plt.plot(history.history['val_loss'], label='Validation Loss')\n",
        "plt.legend()\n",
        "plt.show()"
      ],
      "metadata": {
        "id": "P2ChXk7DLv0K",
        "colab": {
          "base_uri": "https://localhost:8080/",
          "height": 464
        },
        "outputId": "a902e73d-bfc3-4b96-91b9-61e3d184998a"
      },
      "execution_count": 51,
      "outputs": [
        {
          "output_type": "stream",
          "name": "stdout",
          "text": [
            "\u001b[1m422/422\u001b[0m \u001b[32m━━━━━━━━━━━━━━━━━━━━\u001b[0m\u001b[37m\u001b[0m \u001b[1m1s\u001b[0m 2ms/step\n",
            "ADE: 0.0327, FDE: 3.2767, Accuracy@1: 0.4200\n"
          ]
        },
        {
          "output_type": "display_data",
          "data": {
            "text/plain": [
              "<Figure size 640x480 with 1 Axes>"
            ],
            "image/png": "[encoded data removed]"
          },
          "metadata": {}
        }
      ]
    }
  ]
}