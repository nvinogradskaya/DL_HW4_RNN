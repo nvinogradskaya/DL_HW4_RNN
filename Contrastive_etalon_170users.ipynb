{
  "cells": [
    {
      "cell_type": "markdown",
      "metadata": {
        "id": "view-in-github",
        "colab_type": "text"
      },
      "source": [
        "<a href=\"https://colab.research.google.com/github/nvinogradskaya/DL_HW4_RNN/blob/main/Contrastive_etalon_170users.ipynb\" target=\"_parent\"><img src=\"https://colab.research.google.com/assets/colab-badge.svg\" alt=\"Open In Colab\"/></a>"
      ]
    },
    {
      "cell_type": "code",
      "execution_count": 1,
      "metadata": {
        "id": "0E7eG-Kn1MEd"
      },
      "outputs": [],
      "source": [
        "import numpy as np\n",
        "import os\n",
        "import tensorflow as tf\n",
        "import pandas as pd\n",
        "import uuid\n",
        "import shutil\n",
        "import matplotlib.pyplot as plt\n",
        "import pickle\n",
        "\n",
        "from tensorflow.keras.models import Model\n",
        "from tensorflow.keras.layers import Input, LSTM, Dense, Concatenate, Dropout, LayerNormalization\n",
        "from tensorflow.keras.utils import Sequence\n",
        "from tensorflow.keras.callbacks import EarlyStopping, ModelCheckpoint\n",
        "from sklearn.preprocessing import MinMaxScaler\n",
        "from sklearn.metrics.pairwise import cosine_similarity"
      ]
    },
    {
      "cell_type": "code",
      "execution_count": 2,
      "metadata": {
        "colab": {
          "base_uri": "https://localhost:8080/"
        },
        "id": "S0eiHOEs2dMl",
        "outputId": "c29321b9-ff4d-4215-b0a2-fae7e9685bde"
      },
      "outputs": [
        {
          "output_type": "stream",
          "name": "stdout",
          "text": [
            "Mounted at /content/drive\n"
          ]
        }
      ],
      "source": [
        "from google.colab import drive\n",
        "drive.mount('/content/drive')\n",
        "\n",
        "MAX_USERS = 170\n",
        "SEQ_LENGTH = 10\n",
        "EMBEDDING_DIM = 16\n",
        "LSTM_UNITS = 64\n",
        "BATCH_SIZE = 128\n",
        "EPOCHS = 10\n",
        "TEST_SIZE = 0.3\n",
        "\n",
        "DATA_PATH = \"/content/drive/My Drive/Colab Notebooks/Data/\"\n",
        "SAVE_PATH = \"/content/drive/My Drive/Colab Notebooks/contrastive_results-v3-2/\"\n",
        "SEQ_SAVE_PATH = os.path.join(SAVE_PATH, 'sequences/')\n",
        "os.makedirs(SAVE_PATH, exist_ok=True)\n",
        "os.makedirs(SEQ_SAVE_PATH, exist_ok=True)"
      ]
    },
    {
      "cell_type": "code",
      "execution_count": 3,
      "metadata": {
        "id": "R6_1kQxg2qSj"
      },
      "outputs": [],
      "source": [
        "from tqdm import tqdm\n",
        "def load_and_preprocess_data(data_path, max_users=MAX_USERS):\n",
        "    data = []\n",
        "    user_dirs = sorted(os.listdir(data_path))[:max_users]\n",
        "    for user in tqdm(user_dirs, desc=\"Loading users\"):\n",
        "        traj_dir = os.path.join(data_path, user, 'Trajectory')\n",
        "        traj_files = sorted([f for f in os.listdir(traj_dir) if f.endswith('.plt')])\n",
        "        for traj_file in traj_files:\n",
        "            df = pd.read_csv(\n",
        "                os.path.join(traj_dir, traj_file),\n",
        "                skiprows=6,\n",
        "                header=None,\n",
        "                usecols=[0, 1, 3, 5, 6],\n",
        "                names=['lat', 'lon', 'alt', 'date', 'time']\n",
        "            )\n",
        "            df['user'] = user\n",
        "            data.append(df)\n",
        "\n",
        "    df = pd.concat(data, ignore_index=True)\n",
        "    df['datetime'] = pd.to_datetime(df['date'] + ' ' + df['time'])\n",
        "    df.sort_values(by=['user', 'datetime'], inplace=True)\n",
        "    df = df[(df['lat'] != 0) & (df['lon'] != 0)].ffill()\n",
        "\n",
        "    scaler = MinMaxScaler()\n",
        "    df[['lat', 'lon', 'alt']] = scaler.fit_transform(df[['lat', 'lon', 'alt']])\n",
        "\n",
        "    df['hour_sin'] = np.sin(2 * np.pi * df['datetime'].dt.hour / 24)\n",
        "    df['hour_cos'] = np.cos(2 * np.pi * df['datetime'].dt.hour / 24)\n",
        "    df['day_sin'] = np.sin(2 * np.pi * df['datetime'].dt.dayofweek / 7)\n",
        "    df['day_cos'] = np.cos(2 * np.pi * df['datetime'].dt.dayofweek / 7)\n",
        "\n",
        "    user_ids = {user: idx for idx, user in enumerate(df['user'].unique())}\n",
        "    df['user_id'] = df['user'].map(user_ids)\n",
        "\n",
        "    return df, user_ids, scaler"
      ]
    },
    {
      "cell_type": "code",
      "execution_count": 4,
      "metadata": {
        "colab": {
          "base_uri": "https://localhost:8080/"
        },
        "id": "dv0bwuOi2v-C",
        "outputId": "d1851f18-e268-4852-b465-238728805317"
      },
      "outputs": [
        {
          "output_type": "stream",
          "name": "stderr",
          "text": [
            "Loading users: 100%|██████████| 170/170 [1:02:23<00:00, 22.02s/it]\n"
          ]
        }
      ],
      "source": [
        "df, user_ids, scaler = load_and_preprocess_data(DATA_PATH)"
      ]
    },
    {
      "cell_type": "code",
      "execution_count": 5,
      "metadata": {
        "id": "h7MIyahB20y7"
      },
      "outputs": [],
      "source": [
        "# генерация последовательностей\n",
        "def create_sequences_and_save(df, user_ids, seq_length, test_size=0.3, save_path='./seq_data'):\n",
        "    os.makedirs(save_path, exist_ok=True)\n",
        "    features = ['lat', 'lon', 'alt', 'hour_sin', 'hour_cos', 'day_sin', 'day_cos']\n",
        "    targets = ['lat', 'lon']\n",
        "\n",
        "    for user, user_df in tqdm(df.groupby('user'), desc=\"Creating sequences\"):\n",
        "        uid = user_ids[user]\n",
        "        user_df = user_df.reset_index(drop=True)\n",
        "        split_idx = int(len(user_df) * (1 - test_size))\n",
        "        if split_idx <= seq_length:\n",
        "            continue\n",
        "\n",
        "        def process_chunk(data, is_train=True):\n",
        "            window_size = seq_length + 1\n",
        "            data_values = data[features].values\n",
        "            if len(data_values) < window_size:\n",
        "                return\n",
        "            X = np.lib.stride_tricks.sliding_window_view(data_values, (window_size, data_values.shape[1])).squeeze(axis=1)\n",
        "            X = X[:, :-1]\n",
        "            y = data[targets].values[seq_length:]\n",
        "            chunk_size = 1000\n",
        "            for i in range(0, len(X), chunk_size):\n",
        "                save_chunk(X[i:i+chunk_size], y[i:i+chunk_size], is_train)\n",
        "\n",
        "        def save_chunk(X, y, is_train):\n",
        "            suffix = 'train' if is_train else 'test'\n",
        "            chunk_id = uuid.uuid4().hex\n",
        "            np.savez_compressed(\n",
        "                os.path.join(save_path, f'user_{uid}_{suffix}_{chunk_id}.npz'),\n",
        "                X=X,\n",
        "                y=y,\n",
        "                user_id=uid\n",
        "            )\n",
        "\n",
        "        process_chunk(user_df.iloc[:split_idx], is_train=True)\n",
        "        process_chunk(user_df.iloc[split_idx-seq_length:], is_train=False)\n"
      ]
    },
    {
      "cell_type": "code",
      "execution_count": 6,
      "metadata": {
        "colab": {
          "base_uri": "https://localhost:8080/"
        },
        "id": "xUqlTRLt3AEA",
        "outputId": "ff312ef4-110a-4c5b-baec-39b7c9fea81d"
      },
      "outputs": [
        {
          "output_type": "stream",
          "name": "stderr",
          "text": [
            "Creating sequences: 100%|██████████| 170/170 [04:26<00:00,  1.57s/it]\n"
          ]
        }
      ],
      "source": [
        "shutil.rmtree(SEQ_SAVE_PATH, ignore_errors=True)\n",
        "os.makedirs(SEQ_SAVE_PATH, exist_ok=True)\n",
        "create_sequences_and_save(df, user_ids, SEQ_LENGTH, save_path=SEQ_SAVE_PATH)"
      ]
    },
    {
      "cell_type": "code",
      "execution_count": 7,
      "metadata": {
        "id": "deYJTxso3FKi"
      },
      "outputs": [],
      "source": [
        "def load_all_sequences_from_disk(save_path):\n",
        "    X_train, X_test, y_train, y_test, users_train, users_test = [], [], [], [], [], []\n",
        "    for fname in tqdm(sorted(os.listdir(save_path)), desc=\"Loading sequences\"):\n",
        "        if not fname.endswith('.npz'):\n",
        "            continue\n",
        "        split_type = 'train' if 'train' in fname else 'test'\n",
        "        uid = int(fname.split('_')[1])\n",
        "        data = np.load(os.path.join(save_path, fname))\n",
        "        X, y = data['X'], data['y']\n",
        "        if split_type == 'train':\n",
        "            X_train.append(X); y_train.append(y); users_train.append(np.full(len(X), uid))\n",
        "        else:\n",
        "            X_test.append(X); y_test.append(y); users_test.append(np.full(len(X), uid))\n",
        "    return (\n",
        "        np.concatenate(X_train), np.concatenate(X_test),\n",
        "        np.concatenate(y_train), np.concatenate(y_test),\n",
        "        np.concatenate(users_train), np.concatenate(users_test)\n",
        "    )"
      ]
    },
    {
      "cell_type": "code",
      "execution_count": 8,
      "metadata": {
        "colab": {
          "base_uri": "https://localhost:8080/"
        },
        "id": "X4ueQdWP3JfZ",
        "outputId": "9876d786-a0db-45f1-cf69-2046adf313f6"
      },
      "outputs": [
        {
          "output_type": "stream",
          "name": "stderr",
          "text": [
            "Loading sequences: 100%|██████████| 24790/24790 [04:11<00:00, 98.65it/s] \n"
          ]
        }
      ],
      "source": [
        "X_train, X_test, y_train, y_test, users_train, users_test = load_all_sequences_from_disk(SEQ_SAVE_PATH)"
      ]
    },
    {
      "cell_type": "code",
      "execution_count": 9,
      "metadata": {
        "id": "bqfIb0DO3OnW"
      },
      "outputs": [],
      "source": [
        "def create_triplets(X, user_ids):\n",
        "    anchors, positives, negatives = [], [], []\n",
        "    for uid in tqdm(np.unique(user_ids), desc=\"Creating triplets\"):\n",
        "        same_user_idx = np.where(user_ids == uid)[0]\n",
        "        diff_user_idx = np.where(user_ids != uid)[0]\n",
        "        if len(same_user_idx) < 2:\n",
        "            continue\n",
        "        for i in range(min(len(same_user_idx) - 1, 100)):\n",
        "            a_idx, p_idx = same_user_idx[i], same_user_idx[i+1]\n",
        "            n_idx = np.random.choice(diff_user_idx)\n",
        "            anchors.append(X[a_idx])\n",
        "            positives.append(X[p_idx])\n",
        "            negatives.append(X[n_idx])\n",
        "    return np.array(anchors), np.array(positives), np.array(negatives)"
      ]
    },
    {
      "cell_type": "code",
      "execution_count": 10,
      "metadata": {
        "colab": {
          "base_uri": "https://localhost:8080/"
        },
        "id": "T8LPaf1v3T4z",
        "outputId": "70d64efc-182c-48dc-966d-fbb85b14f101"
      },
      "outputs": [
        {
          "output_type": "stream",
          "name": "stderr",
          "text": [
            "Creating triplets: 100%|██████████| 170/170 [00:08<00:00, 20.79it/s]\n"
          ]
        }
      ],
      "source": [
        "anchors, positives, negatives = create_triplets(X_train, users_train)"
      ]
    },
    {
      "cell_type": "code",
      "execution_count": 11,
      "metadata": {
        "id": "V96lWDdt3U2V"
      },
      "outputs": [],
      "source": [
        "def contrastive_model(input_shape, embedding_dim):\n",
        "    inp = Input(shape=input_shape)\n",
        "    x = LSTM(32)(inp)\n",
        "    x = Dense(embedding_dim)(x)\n",
        "    model = Model(inputs=inp, outputs=x)\n",
        "    return model\n",
        "\n",
        "def triplet_loss_fn(a, p, n, margin=1.0):\n",
        "    ap_dist = tf.reduce_sum(tf.square(a - p), axis=1)\n",
        "    an_dist = tf.reduce_sum(tf.square(a - n), axis=1)\n",
        "    return tf.reduce_mean(tf.maximum(ap_dist - an_dist + margin, 0.0))"
      ]
    },
    {
      "cell_type": "code",
      "execution_count": 12,
      "metadata": {
        "id": "8F_cuHJ43ZCh"
      },
      "outputs": [],
      "source": [
        "triplet_encoder = contrastive_model(X_train.shape[1:], EMBEDDING_DIM)\n",
        "optimizer = tf.keras.optimizers.Adam(1e-3)"
      ]
    },
    {
      "cell_type": "code",
      "execution_count": 14,
      "metadata": {
        "colab": {
          "base_uri": "https://localhost:8080/"
        },
        "id": "O4HzflAR3css",
        "outputId": "5ea5c850-87e0-431b-fb8e-0cd5981c76b4"
      },
      "outputs": [
        {
          "output_type": "stream",
          "name": "stdout",
          "text": [
            "сontrastive epoch 1 // loss = 0.1834\n",
            "сontrastive epoch 2 // loss = 0.1673\n",
            "сontrastive epoch 3 // loss = 0.1533\n",
            "сontrastive epoch 4 // loss = 0.1410\n",
            "сontrastive epoch 5 // loss = 0.1304\n",
            "сontrastive epoch 6 // loss = 0.1211\n",
            "сontrastive epoch 7 // loss = 0.1130\n",
            "сontrastive epoch 8 // loss = 0.1058\n",
            "сontrastive epoch 9 // loss = 0.0996\n",
            "сontrastive epoch 10 // loss = 0.0941\n"
          ]
        }
      ],
      "source": [
        "for epoch in range(10):\n",
        "    with tf.GradientTape() as tape:\n",
        "        emb_a = triplet_encoder(anchors)\n",
        "        emb_p = triplet_encoder(positives)\n",
        "        emb_n = triplet_encoder(negatives)\n",
        "        loss = triplet_loss_fn(emb_a, emb_p, emb_n)\n",
        "    grads = tape.gradient(loss, triplet_encoder.trainable_variables)\n",
        "    optimizer.apply_gradients(zip(grads, triplet_encoder.trainable_variables))\n",
        "    print(f\"сontrastive epoch {epoch+1} // loss = {loss.numpy():.4f}\")"
      ]
    },
    {
      "cell_type": "code",
      "execution_count": 16,
      "metadata": {
        "id": "Wfpdydy93g6N"
      },
      "outputs": [],
      "source": [
        "user_embeddings_matrix = {}\n",
        "batch_size = 1024\n",
        "\n",
        "for uid in np.unique(users_train):\n",
        "    user_seqs = X_train[users_train == uid]\n",
        "    user_embs = []\n",
        "\n",
        "    for i in range(0, len(user_seqs), batch_size):\n",
        "        batch = user_seqs[i:i+batch_size]\n",
        "        batch_embs = triplet_encoder(batch)\n",
        "        user_embs.append(batch_embs.numpy())\n",
        "\n",
        "    user_embs = np.concatenate(user_embs, axis=0)\n",
        "    user_embeddings_matrix[uid] = np.mean(user_embs, axis=0)\n",
        "\n",
        "user_embeddings_train = np.array([user_embeddings_matrix[uid] for uid in users_train])\n",
        "user_embeddings_test = np.array([user_embeddings_matrix[uid] for uid in users_test])"
      ]
    },
    {
      "cell_type": "code",
      "execution_count": 17,
      "metadata": {
        "id": "GZoqcZSD3kLH"
      },
      "outputs": [],
      "source": [
        "class CombinedDataGenerator(Sequence):\n",
        "    def __init__(self, X, user_embeddings, y, batch_size=64):\n",
        "        self.X = X\n",
        "        self.user_embeddings = user_embeddings\n",
        "        self.y = y\n",
        "        self.batch_size = batch_size\n",
        "        self.indices = np.arange(len(self.X))\n",
        "\n",
        "    def __len__(self):\n",
        "        return int(np.ceil(len(self.X) / self.batch_size))\n",
        "\n",
        "    def __getitem__(self, index):\n",
        "        start = index * self.batch_size\n",
        "        end = min((index + 1) * self.batch_size, len(self.X))\n",
        "\n",
        "        X_batch = self.X[start:end]\n",
        "        user_batch = self.user_embeddings[start:end]\n",
        "        y_batch = self.y[start:end]\n",
        "\n",
        "        return (X_batch, user_batch), y_batch\n",
        "\n",
        "    def on_epoch_end(self):\n",
        "        pass"
      ]
    },
    {
      "cell_type": "code",
      "execution_count": 18,
      "metadata": {
        "id": "A_zaqtCk3164"
      },
      "outputs": [],
      "source": [
        "def build_lstm_model(seq_input_shape, user_input_shape):\n",
        "\n",
        "    seq_input = Input(shape=seq_input_shape, name='seq_input')\n",
        "    x = LSTM(LSTM_UNITS, return_sequences=False)(seq_input)\n",
        "    x = LayerNormalization()(x)\n",
        "    x = Dropout(0.3)(x)\n",
        "\n",
        "    user_input = Input(shape=user_input_shape, name='user_input')\n",
        "    user_dense = Dense(16, activation='relu')(user_input)\n",
        "\n",
        "    combined = Concatenate()([x, user_dense])\n",
        "\n",
        "    output = Dense(2, activation='linear')(combined)\n",
        "\n",
        "    model = Model(inputs=[seq_input, user_input], outputs=output)\n",
        "    model.compile(optimizer='adam', loss='mse', metrics=['mae'])\n",
        "    return model"
      ]
    },
    {
      "cell_type": "code",
      "execution_count": 19,
      "metadata": {
        "id": "KNZ_M1sc34dT"
      },
      "outputs": [],
      "source": [
        "train_gen = CombinedDataGenerator(X_train, user_embeddings_train, y_train, batch_size=BATCH_SIZE)\n",
        "val_gen = CombinedDataGenerator(X_test, user_embeddings_test, y_test, batch_size=BATCH_SIZE)\n",
        "\n",
        "seq_input_shape = (X_train.shape[1], X_train.shape[2])\n",
        "user_input_shape = (EMBEDDING_DIM,)\n",
        "\n",
        "model = build_lstm_model(seq_input_shape, user_input_shape)"
      ]
    },
    {
      "cell_type": "code",
      "execution_count": 20,
      "metadata": {
        "colab": {
          "base_uri": "https://localhost:8080/"
        },
        "id": "0VVEnisw37Ux",
        "outputId": "30bb64ab-2b3f-4034-abb0-7a88e63e3fb8"
      },
      "outputs": [
        {
          "output_type": "stream",
          "name": "stdout",
          "text": [
            "Epoch 1/10\n"
          ]
        },
        {
          "output_type": "stream",
          "name": "stderr",
          "text": [
            "/usr/local/lib/python3.11/dist-packages/keras/src/trainers/data_adapters/py_dataset_adapter.py:121: UserWarning: Your `PyDataset` class should call `super().__init__(**kwargs)` in its constructor. `**kwargs` can include `workers`, `use_multiprocessing`, `max_queue_size`. Do not pass these arguments to `fit()`, as they will be ignored.\n",
            "  self._warn_if_super_not_called()\n"
          ]
        },
        {
          "output_type": "stream",
          "name": "stdout",
          "text": [
            "\u001b[1m134655/134655\u001b[0m \u001b[32m━━━━━━━━━━━━━━━━━━━━\u001b[0m\u001b[37m\u001b[0m \u001b[1m836s\u001b[0m 6ms/step - loss: 0.0059 - mae: 0.0198 - val_loss: 1.6621e-04 - val_mae: 0.0103\n",
            "Epoch 2/10\n",
            "\u001b[1m134655/134655\u001b[0m \u001b[32m━━━━━━━━━━━━━━━━━━━━\u001b[0m\u001b[37m\u001b[0m \u001b[1m840s\u001b[0m 6ms/step - loss: 1.1039e-04 - mae: 0.0054 - val_loss: 1.1543e-04 - val_mae: 0.0077\n",
            "Epoch 3/10\n",
            "\u001b[1m134655/134655\u001b[0m \u001b[32m━━━━━━━━━━━━━━━━━━━━\u001b[0m\u001b[37m\u001b[0m \u001b[1m843s\u001b[0m 6ms/step - loss: 1.0306e-04 - mae: 0.0047 - val_loss: 6.1472e-05 - val_mae: 0.0032\n",
            "Epoch 4/10\n",
            "\u001b[1m134655/134655\u001b[0m \u001b[32m━━━━━━━━━━━━━━━━━━━━\u001b[0m\u001b[37m\u001b[0m \u001b[1m845s\u001b[0m 6ms/step - loss: 9.6127e-05 - mae: 0.0045 - val_loss: 3.2403e-05 - val_mae: 0.0024\n",
            "Epoch 5/10\n",
            "\u001b[1m134655/134655\u001b[0m \u001b[32m━━━━━━━━━━━━━━━━━━━━\u001b[0m\u001b[37m\u001b[0m \u001b[1m848s\u001b[0m 6ms/step - loss: 7.4241e-05 - mae: 0.0035 - val_loss: 1.4987e-05 - val_mae: 0.0030\n",
            "Epoch 6/10\n",
            "\u001b[1m134655/134655\u001b[0m \u001b[32m━━━━━━━━━━━━━━━━━━━━\u001b[0m\u001b[37m\u001b[0m \u001b[1m850s\u001b[0m 6ms/step - loss: 5.5678e-05 - mae: 0.0032 - val_loss: 4.9911e-06 - val_mae: 0.0013\n",
            "Epoch 7/10\n",
            "\u001b[1m134655/134655\u001b[0m \u001b[32m━━━━━━━━━━━━━━━━━━━━\u001b[0m\u001b[37m\u001b[0m \u001b[1m845s\u001b[0m 6ms/step - loss: 5.0692e-05 - mae: 0.0030 - val_loss: 7.4197e-06 - val_mae: 0.0018\n",
            "Epoch 8/10\n",
            "\u001b[1m134655/134655\u001b[0m \u001b[32m━━━━━━━━━━━━━━━━━━━━\u001b[0m\u001b[37m\u001b[0m \u001b[1m853s\u001b[0m 6ms/step - loss: 4.5384e-05 - mae: 0.0028 - val_loss: 4.0157e-06 - val_mae: 7.1718e-04\n",
            "Epoch 9/10\n",
            "\u001b[1m134655/134655\u001b[0m \u001b[32m━━━━━━━━━━━━━━━━━━━━\u001b[0m\u001b[37m\u001b[0m \u001b[1m855s\u001b[0m 6ms/step - loss: 4.3261e-05 - mae: 0.0026 - val_loss: 5.3896e-06 - val_mae: 0.0018\n",
            "Epoch 10/10\n",
            "\u001b[1m134655/134655\u001b[0m \u001b[32m━━━━━━━━━━━━━━━━━━━━\u001b[0m\u001b[37m\u001b[0m \u001b[1m851s\u001b[0m 6ms/step - loss: 4.1645e-05 - mae: 0.0026 - val_loss: 2.6302e-05 - val_mae: 0.0041\n"
          ]
        }
      ],
      "source": [
        "callbacks = [\n",
        "    ModelCheckpoint(os.path.join(SAVE_PATH, 'best_model.keras'), save_best_only=True, monitor='val_loss'),\n",
        "    EarlyStopping(monitor='val_loss', patience=3, restore_best_weights=True)\n",
        "]\n",
        "\n",
        "history = model.fit(\n",
        "    train_gen,\n",
        "    validation_data=val_gen,\n",
        "    epochs=10,\n",
        "    callbacks=callbacks\n",
        ")"
      ]
    },
    {
      "cell_type": "code",
      "execution_count": 21,
      "metadata": {
        "id": "749MggdB4lkj"
      },
      "outputs": [],
      "source": [
        "model.load_weights(os.path.join(SAVE_PATH, 'best_model.keras'))\n",
        "def predict_with_generator(model, X, user_embs, batch_size=64, save_path=None, verbose=False, max_errors=3):\n",
        "    generator = CombinedDataGenerator(\n",
        "        X, user_embs, np.zeros((len(user_embs), 2)),\n",
        "        batch_size=batch_size\n",
        "    )\n",
        "\n",
        "    preds = []\n",
        "    error_count = 0\n",
        "    suppressed = False\n",
        "\n",
        "    for i, (X_batch, _) in enumerate(tqdm(generator, total=len(generator), desc=\"Predicting\", disable=not verbose)):\n",
        "        try:\n",
        "            if X_batch[0].shape[0] == 0:\n",
        "                continue\n",
        "\n",
        "            batch_pred = model.predict(X_batch, verbose=0)\n",
        "            preds.append(batch_pred)\n",
        "\n",
        "\n",
        "        except Exception as e:\n",
        "            if error_count < max_errors:\n",
        "                print(f\"err {i}: {e}\")\n",
        "            elif error_count == max_errors and not suppressed:\n",
        "                print(\"err\")\n",
        "                suppressed = True\n",
        "            error_count += 1\n",
        "            continue\n",
        "\n",
        "    if preds:\n",
        "        result = np.vstack(preds)\n",
        "        return result\n",
        "    else:\n",
        "        if verbose:\n",
        "            print(\"nulls\")\n",
        "        return np.empty((0, 2))"
      ]
    },
    {
      "cell_type": "code",
      "execution_count": 22,
      "metadata": {
        "id": "Fm3cyZq74uo5",
        "colab": {
          "base_uri": "https://localhost:8080/"
        },
        "outputId": "9b81022b-ae4f-41db-fe7d-c1c5b4afe274"
      },
      "outputs": [
        {
          "output_type": "stream",
          "name": "stdout",
          "text": [
            "\u001b[1m57716/57716\u001b[0m \u001b[32m━━━━━━━━━━━━━━━━━━━━\u001b[0m\u001b[37m\u001b[0m \u001b[1m106s\u001b[0m 2ms/step\n"
          ]
        }
      ],
      "source": [
        "#y_pred = predict_with_generator(model, X_test, user_embeddings_test, save_path=os.path.join(SAVE_PATH, \"y_pred\"))\n",
        "dataset = tf.data.Dataset.from_tensor_slices(((X_test, user_embeddings_test), y_test))\n",
        "dataset = dataset.batch(BATCH_SIZE).prefetch(tf.data.AUTOTUNE)\n",
        "y_pred = model.predict(dataset)"
      ]
    },
    {
      "cell_type": "code",
      "execution_count": 23,
      "metadata": {
        "id": "3wf-a-sI4xat",
        "colab": {
          "base_uri": "https://localhost:8080/"
        },
        "outputId": "2a1092f6-64fe-4299-8b01-2e6f6ce39810"
      },
      "outputs": [
        {
          "output_type": "stream",
          "name": "stdout",
          "text": [
            "ADE: 0.0011, FDE: 0.0011, % predictions < 100m: 0.7526\n"
          ]
        }
      ],
      "source": [
        "def calculate_metrics(preds, targets):\n",
        "    ade = np.mean(np.linalg.norm(preds - targets, axis=-1))\n",
        "    fde = np.mean(np.linalg.norm(preds - targets, axis=-1))\n",
        "    within_100m = np.mean(np.linalg.norm(preds - targets, axis=-1) < 0.001)  # 0.001 ≈ 100 meters\n",
        "    return ade, fde, within_100m\n",
        "\n",
        "ade, fde, acc_within_100m = calculate_metrics(y_pred, y_test)\n",
        "print(f\"ADE: {ade:.4f}, FDE: {fde:.4f}, % predictions < 100m: {acc_within_100m:.4f}\")"
      ]
    },
    {
      "cell_type": "code",
      "execution_count": 24,
      "metadata": {
        "id": "XErGzCnJ4zw3",
        "colab": {
          "base_uri": "https://localhost:8080/",
          "height": 472
        },
        "outputId": "db13dcc7-0419-4d14-aa33-0c0fd5f9e4ee"
      },
      "outputs": [
        {
          "output_type": "display_data",
          "data": {
            "text/plain": [
              "<Figure size 640x480 with 1 Axes>"
            ],
            "image/png": "[encoded data removed]"
          },
          "metadata": {}
        }
      ],
      "source": [
        "plt.plot(history.history['loss'], label='Train Loss')\n",
        "plt.plot(history.history['val_loss'], label='Validation Loss')\n",
        "plt.legend()\n",
        "plt.title('Training Losses')\n",
        "plt.xlabel('Epoch')\n",
        "plt.ylabel('Loss')\n",
        "plt.show()"
      ]
    }
  ],
  "metadata": {
    "colab": {
      "provenance": [],
      "machine_shape": "hm",
      "gpuType": "T4",
      "authorship_tag": "ABX9TyN1zweUodtT5pttG34YmId6",
      "include_colab_link": true
    },
    "kernelspec": {
      "display_name": "Python 3",
      "name": "python3"
    },
    "language_info": {
      "name": "python"
    },
    "accelerator": "GPU"
  },
  "nbformat": 4,
  "nbformat_minor": 0
}